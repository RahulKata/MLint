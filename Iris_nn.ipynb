{
 "cells": [
  {
   "cell_type": "code",
   "execution_count": 1,
   "metadata": {},
   "outputs": [],
   "source": [
    "import pandas as pd\n",
    "import io\n",
    "import requests\n",
    "import numpy as np\n",
    "from sklearn import metrics\n",
    "from sklearn.model_selection import train_test_split\n",
    "from tensorflow.keras.models import Sequential\n",
    "from tensorflow.keras.layers import Dense, Activation\n",
    "from tensorflow.keras.callbacks import EarlyStopping\n",
    "from kerastuner.tuners import RandomSearch\n",
    "import tensorflow as tf"
   ]
  },
  {
   "cell_type": "code",
   "execution_count": 2,
   "metadata": {},
   "outputs": [],
   "source": [
    "df = pd.read_csv(\"https://data.heatonresearch.com/data/t81-558/iris.csv\",na_values=['NA', '?'])"
   ]
  },
  {
   "cell_type": "code",
   "execution_count": 3,
   "metadata": {},
   "outputs": [
    {
     "name": "stdout",
     "output_type": "stream",
     "text": [
      "(150, 3) (150, 4)\n"
     ]
    }
   ],
   "source": [
    "# Convert to numpy - Classification\n",
    "x = df[['sepal_l', 'sepal_w', 'petal_l', 'petal_w']].values\n",
    "dummies = pd.get_dummies(df['species']) # Classification\n",
    "species = dummies.columns\n",
    "y = dummies.values\n",
    "\n",
    "print(y.shape,x.shape)"
   ]
  },
  {
   "cell_type": "code",
   "execution_count": 5,
   "metadata": {},
   "outputs": [],
   "source": [
    "# Split into validation and training sets\n",
    "x_train, x_test, y_train, y_test = train_test_split(x, y)"
   ]
  },
  {
   "cell_type": "code",
   "execution_count": 6,
   "metadata": {
    "collapsed": true,
    "jupyter": {
     "outputs_hidden": true
    }
   },
   "outputs": [
    {
     "name": "stdout",
     "output_type": "stream",
     "text": [
      "Train on 112 samples, validate on 38 samples\n",
      "Epoch 1/1000\n",
      "112/112 - 1s - loss: 1.0970 - accuracy: 0.3393 - val_loss: 1.0452 - val_accuracy: 0.3158\n",
      "Epoch 2/1000\n",
      "112/112 - 0s - loss: 0.9997 - accuracy: 0.3750 - val_loss: 0.9687 - val_accuracy: 0.4211\n",
      "Epoch 3/1000\n",
      "112/112 - 0s - loss: 0.9285 - accuracy: 0.3839 - val_loss: 0.9133 - val_accuracy: 0.3158\n",
      "Epoch 4/1000\n",
      "112/112 - 0s - loss: 0.8866 - accuracy: 0.3393 - val_loss: 0.8796 - val_accuracy: 0.3158\n",
      "Epoch 5/1000\n",
      "112/112 - 0s - loss: 0.8591 - accuracy: 0.4375 - val_loss: 0.8482 - val_accuracy: 0.6579\n",
      "Epoch 6/1000\n",
      "112/112 - 0s - loss: 0.8351 - accuracy: 0.6607 - val_loss: 0.8204 - val_accuracy: 0.7895\n",
      "Epoch 7/1000\n",
      "112/112 - 0s - loss: 0.8115 - accuracy: 0.7232 - val_loss: 0.7944 - val_accuracy: 0.6842\n",
      "Epoch 8/1000\n",
      "112/112 - 0s - loss: 0.7870 - accuracy: 0.7946 - val_loss: 0.7742 - val_accuracy: 0.8947\n",
      "Epoch 9/1000\n",
      "112/112 - 0s - loss: 0.7684 - accuracy: 0.8661 - val_loss: 0.7550 - val_accuracy: 0.8684\n",
      "Epoch 10/1000\n",
      "112/112 - 0s - loss: 0.7496 - accuracy: 0.8304 - val_loss: 0.7337 - val_accuracy: 0.7895\n",
      "Epoch 11/1000\n",
      "112/112 - 0s - loss: 0.7308 - accuracy: 0.7946 - val_loss: 0.7120 - val_accuracy: 0.7368\n",
      "Epoch 12/1000\n",
      "112/112 - 0s - loss: 0.7098 - accuracy: 0.7321 - val_loss: 0.6849 - val_accuracy: 0.6842\n",
      "Epoch 13/1000\n",
      "112/112 - 0s - loss: 0.6873 - accuracy: 0.7232 - val_loss: 0.6618 - val_accuracy: 0.7105\n",
      "Epoch 14/1000\n",
      "112/112 - 0s - loss: 0.6662 - accuracy: 0.7500 - val_loss: 0.6387 - val_accuracy: 0.7105\n",
      "Epoch 15/1000\n",
      "112/112 - 0s - loss: 0.6476 - accuracy: 0.7143 - val_loss: 0.6165 - val_accuracy: 0.6842\n",
      "Epoch 16/1000\n",
      "112/112 - 0s - loss: 0.6269 - accuracy: 0.7411 - val_loss: 0.5948 - val_accuracy: 0.7895\n",
      "Epoch 17/1000\n",
      "112/112 - 0s - loss: 0.6080 - accuracy: 0.8036 - val_loss: 0.5750 - val_accuracy: 0.8158\n",
      "Epoch 18/1000\n",
      "112/112 - 0s - loss: 0.5915 - accuracy: 0.8393 - val_loss: 0.5565 - val_accuracy: 0.8947\n",
      "Epoch 19/1000\n",
      "112/112 - 0s - loss: 0.5732 - accuracy: 0.8571 - val_loss: 0.5381 - val_accuracy: 0.8684\n",
      "Epoch 20/1000\n",
      "112/112 - 0s - loss: 0.5565 - accuracy: 0.8393 - val_loss: 0.5214 - val_accuracy: 0.8684\n",
      "Epoch 21/1000\n",
      "112/112 - 0s - loss: 0.5421 - accuracy: 0.8304 - val_loss: 0.5058 - val_accuracy: 0.8684\n",
      "Epoch 22/1000\n",
      "112/112 - 0s - loss: 0.5260 - accuracy: 0.8571 - val_loss: 0.4907 - val_accuracy: 0.9211\n",
      "Epoch 23/1000\n",
      "112/112 - 0s - loss: 0.5131 - accuracy: 0.9018 - val_loss: 0.4769 - val_accuracy: 0.9474\n",
      "Epoch 24/1000\n",
      "112/112 - 0s - loss: 0.5000 - accuracy: 0.9107 - val_loss: 0.4628 - val_accuracy: 0.8947\n",
      "Epoch 25/1000\n",
      "112/112 - 0s - loss: 0.4860 - accuracy: 0.8750 - val_loss: 0.4499 - val_accuracy: 0.8947\n",
      "Epoch 26/1000\n",
      "112/112 - 0s - loss: 0.4737 - accuracy: 0.8750 - val_loss: 0.4372 - val_accuracy: 0.9474\n",
      "Epoch 27/1000\n",
      "112/112 - 0s - loss: 0.4644 - accuracy: 0.9107 - val_loss: 0.4258 - val_accuracy: 0.9737\n",
      "Epoch 28/1000\n",
      "112/112 - 0s - loss: 0.4516 - accuracy: 0.9643 - val_loss: 0.4149 - val_accuracy: 0.9737\n",
      "Epoch 29/1000\n",
      "112/112 - 0s - loss: 0.4418 - accuracy: 0.9464 - val_loss: 0.4040 - val_accuracy: 0.9474\n",
      "Epoch 30/1000\n",
      "112/112 - 0s - loss: 0.4306 - accuracy: 0.9375 - val_loss: 0.3944 - val_accuracy: 0.9737\n",
      "Epoch 31/1000\n",
      "112/112 - 0s - loss: 0.4240 - accuracy: 0.9554 - val_loss: 0.3852 - val_accuracy: 1.0000\n",
      "Epoch 32/1000\n",
      "112/112 - 0s - loss: 0.4129 - accuracy: 0.9464 - val_loss: 0.3758 - val_accuracy: 0.9474\n",
      "Epoch 33/1000\n",
      "112/112 - 0s - loss: 0.4026 - accuracy: 0.9286 - val_loss: 0.3668 - val_accuracy: 0.9474\n",
      "Epoch 34/1000\n",
      "112/112 - 0s - loss: 0.3945 - accuracy: 0.9464 - val_loss: 0.3579 - val_accuracy: 0.9737\n",
      "Epoch 35/1000\n",
      "112/112 - 0s - loss: 0.3893 - accuracy: 0.9554 - val_loss: 0.3504 - val_accuracy: 1.0000\n",
      "Epoch 36/1000\n",
      "112/112 - 0s - loss: 0.3786 - accuracy: 0.9643 - val_loss: 0.3416 - val_accuracy: 0.9737\n",
      "Epoch 37/1000\n",
      "112/112 - 0s - loss: 0.3726 - accuracy: 0.9286 - val_loss: 0.3366 - val_accuracy: 0.9474\n",
      "Epoch 38/1000\n",
      "112/112 - 0s - loss: 0.3646 - accuracy: 0.9196 - val_loss: 0.3268 - val_accuracy: 0.9737\n",
      "Epoch 39/1000\n",
      "112/112 - 0s - loss: 0.3564 - accuracy: 0.9464 - val_loss: 0.3203 - val_accuracy: 1.0000\n",
      "Epoch 40/1000\n",
      "112/112 - 0s - loss: 0.3507 - accuracy: 0.9643 - val_loss: 0.3120 - val_accuracy: 1.0000\n",
      "Epoch 41/1000\n",
      "112/112 - 0s - loss: 0.3429 - accuracy: 0.9554 - val_loss: 0.3058 - val_accuracy: 0.9737\n",
      "Epoch 42/1000\n",
      "112/112 - 0s - loss: 0.3365 - accuracy: 0.9464 - val_loss: 0.2984 - val_accuracy: 1.0000\n",
      "Epoch 43/1000\n",
      "112/112 - 0s - loss: 0.3290 - accuracy: 0.9554 - val_loss: 0.2916 - val_accuracy: 1.0000\n",
      "Epoch 44/1000\n",
      "112/112 - 0s - loss: 0.3223 - accuracy: 0.9554 - val_loss: 0.2849 - val_accuracy: 1.0000\n",
      "Epoch 45/1000\n",
      "112/112 - 0s - loss: 0.3158 - accuracy: 0.9554 - val_loss: 0.2784 - val_accuracy: 1.0000\n",
      "Epoch 46/1000\n",
      "112/112 - 0s - loss: 0.3103 - accuracy: 0.9554 - val_loss: 0.2720 - val_accuracy: 1.0000\n",
      "Epoch 47/1000\n",
      "112/112 - 0s - loss: 0.3043 - accuracy: 0.9643 - val_loss: 0.2657 - val_accuracy: 1.0000\n",
      "Epoch 48/1000\n",
      "112/112 - 0s - loss: 0.2975 - accuracy: 0.9554 - val_loss: 0.2597 - val_accuracy: 1.0000\n",
      "Epoch 49/1000\n",
      "112/112 - 0s - loss: 0.2948 - accuracy: 0.9464 - val_loss: 0.2546 - val_accuracy: 1.0000\n",
      "Epoch 50/1000\n",
      "112/112 - 0s - loss: 0.2860 - accuracy: 0.9554 - val_loss: 0.2472 - val_accuracy: 1.0000\n",
      "Epoch 51/1000\n",
      "112/112 - 0s - loss: 0.2809 - accuracy: 0.9732 - val_loss: 0.2436 - val_accuracy: 1.0000\n",
      "Epoch 52/1000\n",
      "112/112 - 0s - loss: 0.2763 - accuracy: 0.9732 - val_loss: 0.2356 - val_accuracy: 1.0000\n",
      "Epoch 53/1000\n",
      "112/112 - 0s - loss: 0.2735 - accuracy: 0.9554 - val_loss: 0.2315 - val_accuracy: 1.0000\n",
      "Epoch 54/1000\n",
      "112/112 - 0s - loss: 0.2646 - accuracy: 0.9554 - val_loss: 0.2243 - val_accuracy: 1.0000\n",
      "Epoch 55/1000\n",
      "112/112 - 0s - loss: 0.2592 - accuracy: 0.9732 - val_loss: 0.2203 - val_accuracy: 1.0000\n",
      "Epoch 56/1000\n",
      "112/112 - 0s - loss: 0.2549 - accuracy: 0.9732 - val_loss: 0.2139 - val_accuracy: 1.0000\n",
      "Epoch 57/1000\n",
      "112/112 - 0s - loss: 0.2516 - accuracy: 0.9554 - val_loss: 0.2086 - val_accuracy: 1.0000\n",
      "Epoch 58/1000\n",
      "112/112 - 0s - loss: 0.2439 - accuracy: 0.9732 - val_loss: 0.2045 - val_accuracy: 1.0000\n",
      "Epoch 59/1000\n",
      "112/112 - 0s - loss: 0.2415 - accuracy: 0.9821 - val_loss: 0.2017 - val_accuracy: 1.0000\n",
      "Epoch 60/1000\n",
      "112/112 - 0s - loss: 0.2365 - accuracy: 0.9821 - val_loss: 0.1938 - val_accuracy: 1.0000\n",
      "Epoch 61/1000\n",
      "112/112 - 0s - loss: 0.2333 - accuracy: 0.9643 - val_loss: 0.1905 - val_accuracy: 1.0000\n",
      "Epoch 62/1000\n",
      "112/112 - 0s - loss: 0.2272 - accuracy: 0.9554 - val_loss: 0.1846 - val_accuracy: 1.0000\n",
      "Epoch 63/1000\n",
      "112/112 - 0s - loss: 0.2217 - accuracy: 0.9732 - val_loss: 0.1806 - val_accuracy: 1.0000\n",
      "Epoch 64/1000\n",
      "112/112 - 0s - loss: 0.2180 - accuracy: 0.9732 - val_loss: 0.1760 - val_accuracy: 1.0000\n",
      "Epoch 65/1000\n",
      "112/112 - 0s - loss: 0.2133 - accuracy: 0.9732 - val_loss: 0.1718 - val_accuracy: 1.0000\n",
      "Epoch 66/1000\n",
      "112/112 - 0s - loss: 0.2095 - accuracy: 0.9732 - val_loss: 0.1676 - val_accuracy: 1.0000\n",
      "Epoch 67/1000\n",
      "112/112 - 0s - loss: 0.2061 - accuracy: 0.9732 - val_loss: 0.1638 - val_accuracy: 1.0000\n",
      "Epoch 68/1000\n",
      "112/112 - 0s - loss: 0.2029 - accuracy: 0.9732 - val_loss: 0.1602 - val_accuracy: 1.0000\n",
      "Epoch 69/1000\n",
      "112/112 - 0s - loss: 0.1991 - accuracy: 0.9643 - val_loss: 0.1542 - val_accuracy: 1.0000\n",
      "Epoch 70/1000\n",
      "112/112 - 0s - loss: 0.1944 - accuracy: 0.9643 - val_loss: 0.1495 - val_accuracy: 1.0000\n",
      "Epoch 71/1000\n",
      "112/112 - 0s - loss: 0.1890 - accuracy: 0.9643 - val_loss: 0.1457 - val_accuracy: 1.0000\n",
      "Epoch 72/1000\n",
      "112/112 - 0s - loss: 0.1862 - accuracy: 0.9732 - val_loss: 0.1416 - val_accuracy: 1.0000\n",
      "Epoch 73/1000\n",
      "112/112 - 0s - loss: 0.1822 - accuracy: 0.9732 - val_loss: 0.1388 - val_accuracy: 1.0000\n",
      "Epoch 74/1000\n",
      "112/112 - 0s - loss: 0.1794 - accuracy: 0.9821 - val_loss: 0.1336 - val_accuracy: 1.0000\n",
      "Epoch 75/1000\n",
      "112/112 - 0s - loss: 0.1774 - accuracy: 0.9643 - val_loss: 0.1305 - val_accuracy: 1.0000\n",
      "Epoch 76/1000\n",
      "112/112 - 0s - loss: 0.1758 - accuracy: 0.9643 - val_loss: 0.1272 - val_accuracy: 1.0000\n",
      "Epoch 77/1000\n",
      "112/112 - 0s - loss: 0.1699 - accuracy: 0.9732 - val_loss: 0.1231 - val_accuracy: 1.0000\n",
      "Epoch 78/1000\n",
      "112/112 - 0s - loss: 0.1666 - accuracy: 0.9643 - val_loss: 0.1200 - val_accuracy: 1.0000\n",
      "Epoch 79/1000\n",
      "112/112 - 0s - loss: 0.1625 - accuracy: 0.9732 - val_loss: 0.1186 - val_accuracy: 1.0000\n",
      "Epoch 80/1000\n",
      "112/112 - 0s - loss: 0.1645 - accuracy: 0.9821 - val_loss: 0.1174 - val_accuracy: 1.0000\n",
      "Epoch 81/1000\n",
      "112/112 - 0s - loss: 0.1606 - accuracy: 0.9732 - val_loss: 0.1112 - val_accuracy: 1.0000\n",
      "Epoch 82/1000\n",
      "112/112 - 0s - loss: 0.1544 - accuracy: 0.9643 - val_loss: 0.1085 - val_accuracy: 1.0000\n",
      "Epoch 83/1000\n",
      "112/112 - 0s - loss: 0.1532 - accuracy: 0.9643 - val_loss: 0.1059 - val_accuracy: 1.0000\n",
      "Epoch 84/1000\n",
      "112/112 - 0s - loss: 0.1510 - accuracy: 0.9643 - val_loss: 0.1034 - val_accuracy: 1.0000\n",
      "Epoch 85/1000\n",
      "112/112 - 0s - loss: 0.1474 - accuracy: 0.9732 - val_loss: 0.1015 - val_accuracy: 1.0000\n",
      "Epoch 86/1000\n",
      "112/112 - 0s - loss: 0.1463 - accuracy: 0.9732 - val_loss: 0.1020 - val_accuracy: 1.0000\n",
      "Epoch 87/1000\n",
      "112/112 - 0s - loss: 0.1439 - accuracy: 0.9821 - val_loss: 0.0964 - val_accuracy: 1.0000\n",
      "Epoch 88/1000\n",
      "112/112 - 0s - loss: 0.1410 - accuracy: 0.9732 - val_loss: 0.0957 - val_accuracy: 1.0000\n",
      "Epoch 89/1000\n",
      "112/112 - 0s - loss: 0.1441 - accuracy: 0.9643 - val_loss: 0.0921 - val_accuracy: 1.0000\n",
      "Epoch 90/1000\n",
      "112/112 - 0s - loss: 0.1385 - accuracy: 0.9732 - val_loss: 0.0916 - val_accuracy: 1.0000\n",
      "Epoch 91/1000\n",
      "112/112 - 0s - loss: 0.1371 - accuracy: 0.9732 - val_loss: 0.0887 - val_accuracy: 1.0000\n",
      "Epoch 92/1000\n",
      "112/112 - 0s - loss: 0.1347 - accuracy: 0.9732 - val_loss: 0.0869 - val_accuracy: 1.0000\n",
      "Epoch 93/1000\n",
      "112/112 - 0s - loss: 0.1321 - accuracy: 0.9732 - val_loss: 0.0845 - val_accuracy: 1.0000\n",
      "Epoch 94/1000\n",
      "112/112 - 0s - loss: 0.1314 - accuracy: 0.9643 - val_loss: 0.0831 - val_accuracy: 1.0000\n",
      "Epoch 95/1000\n",
      "112/112 - 0s - loss: 0.1311 - accuracy: 0.9643 - val_loss: 0.0824 - val_accuracy: 1.0000\n",
      "Epoch 96/1000\n",
      "112/112 - 0s - loss: 0.1299 - accuracy: 0.9643 - val_loss: 0.0815 - val_accuracy: 1.0000\n",
      "Epoch 97/1000\n",
      "112/112 - 0s - loss: 0.1255 - accuracy: 0.9821 - val_loss: 0.0780 - val_accuracy: 1.0000\n",
      "Epoch 98/1000\n",
      "112/112 - 0s - loss: 0.1262 - accuracy: 0.9643 - val_loss: 0.0765 - val_accuracy: 1.0000\n",
      "Epoch 99/1000\n",
      "112/112 - 0s - loss: 0.1229 - accuracy: 0.9732 - val_loss: 0.0775 - val_accuracy: 1.0000\n",
      "Epoch 100/1000\n",
      "112/112 - 0s - loss: 0.1236 - accuracy: 0.9732 - val_loss: 0.0775 - val_accuracy: 1.0000\n",
      "Epoch 101/1000\n",
      "112/112 - 0s - loss: 0.1229 - accuracy: 0.9732 - val_loss: 0.0739 - val_accuracy: 1.0000\n",
      "Epoch 102/1000\n",
      "112/112 - 0s - loss: 0.1194 - accuracy: 0.9732 - val_loss: 0.0717 - val_accuracy: 1.0000\n",
      "Epoch 103/1000\n",
      "112/112 - 0s - loss: 0.1205 - accuracy: 0.9732 - val_loss: 0.0699 - val_accuracy: 1.0000\n",
      "Epoch 104/1000\n",
      "112/112 - 0s - loss: 0.1158 - accuracy: 0.9732 - val_loss: 0.0722 - val_accuracy: 1.0000\n",
      "Epoch 105/1000\n",
      "112/112 - 0s - loss: 0.1208 - accuracy: 0.9732 - val_loss: 0.0741 - val_accuracy: 1.0000\n",
      "Epoch 106/1000\n",
      "112/112 - 0s - loss: 0.1193 - accuracy: 0.9732 - val_loss: 0.0676 - val_accuracy: 1.0000\n",
      "Epoch 107/1000\n",
      "112/112 - 0s - loss: 0.1149 - accuracy: 0.9732 - val_loss: 0.0661 - val_accuracy: 1.0000\n",
      "Epoch 108/1000\n",
      "112/112 - 0s - loss: 0.1128 - accuracy: 0.9732 - val_loss: 0.0664 - val_accuracy: 1.0000\n",
      "Epoch 109/1000\n",
      "112/112 - 0s - loss: 0.1131 - accuracy: 0.9732 - val_loss: 0.0654 - val_accuracy: 1.0000\n",
      "Epoch 110/1000\n",
      "112/112 - 0s - loss: 0.1127 - accuracy: 0.9732 - val_loss: 0.0624 - val_accuracy: 1.0000\n",
      "Epoch 111/1000\n",
      "112/112 - 0s - loss: 0.1122 - accuracy: 0.9643 - val_loss: 0.0617 - val_accuracy: 1.0000\n",
      "Epoch 112/1000\n",
      "112/112 - 0s - loss: 0.1147 - accuracy: 0.9643 - val_loss: 0.0658 - val_accuracy: 1.0000\n",
      "Epoch 113/1000\n",
      "112/112 - 0s - loss: 0.1111 - accuracy: 0.9732 - val_loss: 0.0596 - val_accuracy: 1.0000\n",
      "Epoch 114/1000\n",
      "112/112 - 0s - loss: 0.1083 - accuracy: 0.9732 - val_loss: 0.0587 - val_accuracy: 1.0000\n",
      "Epoch 115/1000\n",
      "112/112 - 0s - loss: 0.1088 - accuracy: 0.9732 - val_loss: 0.0596 - val_accuracy: 1.0000\n",
      "Epoch 116/1000\n",
      "112/112 - 0s - loss: 0.1062 - accuracy: 0.9732 - val_loss: 0.0575 - val_accuracy: 1.0000\n",
      "Epoch 117/1000\n",
      "112/112 - 0s - loss: 0.1055 - accuracy: 0.9732 - val_loss: 0.0567 - val_accuracy: 1.0000\n",
      "Epoch 118/1000\n",
      "112/112 - 0s - loss: 0.1052 - accuracy: 0.9732 - val_loss: 0.0569 - val_accuracy: 1.0000\n",
      "Epoch 119/1000\n",
      "112/112 - 0s - loss: 0.1043 - accuracy: 0.9821 - val_loss: 0.0554 - val_accuracy: 1.0000\n",
      "Epoch 120/1000\n",
      "112/112 - 0s - loss: 0.1038 - accuracy: 0.9732 - val_loss: 0.0542 - val_accuracy: 1.0000\n",
      "Epoch 121/1000\n",
      "112/112 - 0s - loss: 0.1054 - accuracy: 0.9732 - val_loss: 0.0564 - val_accuracy: 1.0000\n",
      "Epoch 122/1000\n",
      "112/112 - 0s - loss: 0.1028 - accuracy: 0.9732 - val_loss: 0.0539 - val_accuracy: 1.0000\n",
      "Epoch 123/1000\n",
      "112/112 - 0s - loss: 0.1014 - accuracy: 0.9732 - val_loss: 0.0524 - val_accuracy: 1.0000\n",
      "Epoch 124/1000\n",
      "112/112 - 0s - loss: 0.1016 - accuracy: 0.9732 - val_loss: 0.0513 - val_accuracy: 1.0000\n",
      "Epoch 125/1000\n",
      "112/112 - 0s - loss: 0.1008 - accuracy: 0.9732 - val_loss: 0.0529 - val_accuracy: 1.0000\n",
      "Epoch 126/1000\n",
      "112/112 - 0s - loss: 0.1016 - accuracy: 0.9643 - val_loss: 0.0517 - val_accuracy: 1.0000\n",
      "Epoch 127/1000\n",
      "112/112 - 0s - loss: 0.0990 - accuracy: 0.9732 - val_loss: 0.0525 - val_accuracy: 1.0000\n",
      "Epoch 128/1000\n",
      "112/112 - 0s - loss: 0.1006 - accuracy: 0.9643 - val_loss: 0.0492 - val_accuracy: 1.0000\n",
      "Epoch 129/1000\n",
      "112/112 - 0s - loss: 0.1001 - accuracy: 0.9732 - val_loss: 0.0482 - val_accuracy: 1.0000\n",
      "Epoch 130/1000\n",
      "112/112 - 0s - loss: 0.0982 - accuracy: 0.9732 - val_loss: 0.0504 - val_accuracy: 1.0000\n",
      "Epoch 131/1000\n",
      "112/112 - 0s - loss: 0.0974 - accuracy: 0.9732 - val_loss: 0.0487 - val_accuracy: 1.0000\n",
      "Epoch 132/1000\n",
      "112/112 - 0s - loss: 0.0968 - accuracy: 0.9732 - val_loss: 0.0478 - val_accuracy: 1.0000\n",
      "Epoch 133/1000\n",
      "112/112 - 0s - loss: 0.0963 - accuracy: 0.9732 - val_loss: 0.0492 - val_accuracy: 1.0000\n",
      "Epoch 134/1000\n",
      "112/112 - 0s - loss: 0.0962 - accuracy: 0.9732 - val_loss: 0.0465 - val_accuracy: 1.0000\n",
      "Epoch 135/1000\n",
      "112/112 - 0s - loss: 0.0973 - accuracy: 0.9732 - val_loss: 0.0449 - val_accuracy: 1.0000\n",
      "Epoch 136/1000\n",
      "112/112 - 0s - loss: 0.0932 - accuracy: 0.9732 - val_loss: 0.0493 - val_accuracy: 1.0000\n",
      "Epoch 137/1000\n",
      "112/112 - 0s - loss: 0.0968 - accuracy: 0.9821 - val_loss: 0.0506 - val_accuracy: 1.0000\n",
      "Epoch 138/1000\n",
      "112/112 - 0s - loss: 0.0983 - accuracy: 0.9821 - val_loss: 0.0504 - val_accuracy: 1.0000\n",
      "Epoch 139/1000\n",
      "112/112 - 0s - loss: 0.0940 - accuracy: 0.9732 - val_loss: 0.0438 - val_accuracy: 1.0000\n",
      "Epoch 140/1000\n",
      "112/112 - 0s - loss: 0.0952 - accuracy: 0.9732 - val_loss: 0.0424 - val_accuracy: 1.0000\n",
      "Epoch 141/1000\n",
      "112/112 - 0s - loss: 0.0948 - accuracy: 0.9643 - val_loss: 0.0435 - val_accuracy: 1.0000\n",
      "Epoch 142/1000\n",
      "112/112 - 0s - loss: 0.0913 - accuracy: 0.9732 - val_loss: 0.0466 - val_accuracy: 1.0000\n",
      "Epoch 143/1000\n",
      "112/112 - 0s - loss: 0.0933 - accuracy: 0.9732 - val_loss: 0.0450 - val_accuracy: 1.0000\n",
      "Epoch 144/1000\n",
      "112/112 - 0s - loss: 0.0919 - accuracy: 0.9732 - val_loss: 0.0426 - val_accuracy: 1.0000\n",
      "Epoch 145/1000\n",
      "Restoring model weights from the end of the best epoch.\n",
      "112/112 - 0s - loss: 0.0914 - accuracy: 0.9643 - val_loss: 0.0424 - val_accuracy: 1.0000\n",
      "Epoch 00145: early stopping\n"
     ]
    },
    {
     "data": {
      "text/plain": [
       "<tensorflow.python.keras.callbacks.History at 0x186c0c73888>"
      ]
     },
     "execution_count": 6,
     "metadata": {},
     "output_type": "execute_result"
    }
   ],
   "source": [
    "# Build neural network\n",
    "model = Sequential()\n",
    "model.add(Dense(50, input_dim=x.shape[1], activation='relu')) # Hidden 1\n",
    "model.add(Dense(25, activation='relu')) # Hidden 2\n",
    "model.add(Dense(y.shape[1],activation='softmax')) # Output\n",
    "model.compile(loss='categorical_crossentropy', optimizer='adam',metrics=['accuracy'])\n",
    "\n",
    "monitor = EarlyStopping(monitor='val_loss', min_delta=1e-3, patience=5, verbose=1, mode='auto',\n",
    "        restore_best_weights=True)\n",
    "model.fit(x_train,y_train,validation_data=(x_test,y_test),callbacks=[monitor],verbose=2,epochs=1000)"
   ]
  },
  {
   "cell_type": "code",
   "execution_count": 8,
   "metadata": {},
   "outputs": [
    {
     "name": "stdout",
     "output_type": "stream",
     "text": [
      "Model: \"sequential_1\"\n",
      "_________________________________________________________________\n",
      "Layer (type)                 Output Shape              Param #   \n",
      "=================================================================\n",
      "dense_3 (Dense)              (None, 50)                250       \n",
      "_________________________________________________________________\n",
      "dense_4 (Dense)              (None, 25)                1275      \n",
      "_________________________________________________________________\n",
      "dense_5 (Dense)              (None, 3)                 78        \n",
      "=================================================================\n",
      "Total params: 1,603\n",
      "Trainable params: 1,603\n",
      "Non-trainable params: 0\n",
      "_________________________________________________________________\n"
     ]
    }
   ],
   "source": [
    "model.summary()"
   ]
  },
  {
   "cell_type": "code",
   "execution_count": 9,
   "metadata": {},
   "outputs": [
    {
     "name": "stdout",
     "output_type": "stream",
     "text": [
      "Accuracy: 1.0\n"
     ]
    }
   ],
   "source": [
    "from sklearn.metrics import accuracy_score\n",
    "\n",
    "pred = model.predict(x_test)\n",
    "predict_classes = np.argmax(pred,axis=1)\n",
    "expected_classes = np.argmax(y_test,axis=1)\n",
    "correct = accuracy_score(expected_classes,predict_classes)\n",
    "print(f\"Accuracy: {correct}\")"
   ]
  },
  {
   "cell_type": "code",
   "execution_count": 10,
   "metadata": {},
   "outputs": [
    {
     "name": "stdout",
     "output_type": "stream",
     "text": [
      "38/38 [==============================] - ETA: 0s - loss: 0.0297 - accuracy: 1.00 - 0s 262us/sample - loss: 0.0424 - accuracy: 1.0000\n",
      "Test loss: 0.04242380669242457\n",
      "Test accuracy: 1.0\n"
     ]
    }
   ],
   "source": [
    "#Testing the model on test set\n",
    "score = model.evaluate(x_test, y_test)\n",
    "print('Test loss:', score[0])\n",
    "print('Test accuracy:', score[1])"
   ]
  },
  {
   "cell_type": "markdown",
   "metadata": {},
   "source": [
    "<hr><h3>I'm gonna tune using keras-tuner and see if i can do better</h3>"
   ]
  },
  {
   "cell_type": "code",
   "execution_count": 14,
   "metadata": {},
   "outputs": [],
   "source": [
    "def build_model(hp):\n",
    "    model = Sequential()\n",
    "    model.add(Dense(units=hp.Int('units',min_value=50,\n",
    "                                         max_value=80,\n",
    "                                         step=10),\n",
    "                                         input_dim=x.shape[1],\n",
    "                                         activation='relu'))\n",
    "    model.add(Dense(units=hp.Int('units',min_value=20,\n",
    "                                         max_value=50,\n",
    "                                         step=10),\n",
    "                                         activation='relu'))\n",
    "    model.add(Dense(y.shape[1], activation='softmax'))\n",
    "    model.compile(optimizer=tf.keras.optimizers.Adam(hp.Choice('learning_rate',values=[1e-2, 1e-3, 1e-4])),\n",
    "                 loss='categorical_crossentropy',\n",
    "                 metrics=['accuracy'])\n",
    "    return model"
   ]
  },
  {
   "cell_type": "code",
   "execution_count": 15,
   "metadata": {},
   "outputs": [],
   "source": [
    "tuner = RandomSearch(\n",
    "    build_model,\n",
    "    objective='val_accuracy',\n",
    "    max_trials=5,\n",
    "    executions_per_trial=3,\n",
    "    directory='my_dir',\n",
    "    project_name='iris')"
   ]
  },
  {
   "cell_type": "code",
   "execution_count": 16,
   "metadata": {
    "collapsed": true,
    "jupyter": {
     "outputs_hidden": true
    }
   },
   "outputs": [
    {
     "name": "stdout",
     "output_type": "stream",
     "text": [
      "Train on 112 samples, validate on 112 samples\n",
      "Epoch 1/20\n",
      "112/112 [==============================] - ETA: 0s - loss: 1.3775 - accuracy: 0.25 - 1s 5ms/sample - loss: 1.1136 - accuracy: 0.4464 - val_loss: 0.7913 - val_accuracy: 0.6607\n",
      "Epoch 2/20\n",
      "112/112 [==============================] - ETA: 0s - loss: 0.8122 - accuracy: 0.71 - 0s 356us/sample - loss: 0.7725 - accuracy: 0.6607 - val_loss: 0.5964 - val_accuracy: 0.6607\n",
      "Epoch 3/20\n",
      "112/112 [==============================] - ETA: 0s - loss: 0.5917 - accuracy: 0.68 - 0s 232us/sample - loss: 0.5560 - accuracy: 0.7589 - val_loss: 0.5211 - val_accuracy: 0.6607\n",
      "Epoch 4/20\n",
      "112/112 [==============================] - ETA: 0s - loss: 0.4985 - accuracy: 0.68 - 0s 2ms/sample - loss: 0.4679 - accuracy: 0.7857 - val_loss: 0.4291 - val_accuracy: 0.6696\n",
      "Epoch 5/20\n",
      "112/112 [==============================] - ETA: 0s - loss: 0.4204 - accuracy: 0.68 - 0s 2ms/sample - loss: 0.4095 - accuracy: 0.7500 - val_loss: 0.3492 - val_accuracy: 0.9643\n",
      "Epoch 6/20\n",
      "112/112 [==============================] - ETA: 0s - loss: 0.3720 - accuracy: 0.93 - 0s 285us/sample - loss: 0.3329 - accuracy: 0.9464 - val_loss: 0.2885 - val_accuracy: 0.9643\n",
      "Epoch 7/20\n",
      "112/112 [==============================] - ETA: 0s - loss: 0.3048 - accuracy: 0.93 - 0s 267us/sample - loss: 0.2745 - accuracy: 0.9464 - val_loss: 0.2380 - val_accuracy: 0.9643\n",
      "Epoch 8/20\n",
      "112/112 [==============================] - ETA: 0s - loss: 0.1821 - accuracy: 0.96 - 0s 249us/sample - loss: 0.2241 - accuracy: 0.9643 - val_loss: 0.1941 - val_accuracy: 0.9554\n",
      "Epoch 9/20\n",
      "112/112 [==============================] - ETA: 0s - loss: 0.2049 - accuracy: 0.93 - 0s 240us/sample - loss: 0.1847 - accuracy: 0.9643 - val_loss: 0.1693 - val_accuracy: 0.9554\n",
      "Epoch 10/20\n",
      "112/112 [==============================] - ETA: 0s - loss: 0.1480 - accuracy: 0.96 - 0s 240us/sample - loss: 0.1803 - accuracy: 0.9464 - val_loss: 0.1622 - val_accuracy: 0.9375\n",
      "Epoch 11/20\n",
      "112/112 [==============================] - ETA: 0s - loss: 0.2118 - accuracy: 0.90 - 0s 249us/sample - loss: 0.1744 - accuracy: 0.9464 - val_loss: 0.1203 - val_accuracy: 0.9643\n",
      "Epoch 12/20\n",
      "112/112 [==============================] - ETA: 0s - loss: 0.1481 - accuracy: 0.96 - 0s 294us/sample - loss: 0.1327 - accuracy: 0.9643 - val_loss: 0.1093 - val_accuracy: 0.9643\n",
      "Epoch 13/20\n",
      "112/112 [==============================] - ETA: 0s - loss: 0.0943 - accuracy: 0.96 - 0s 231us/sample - loss: 0.1311 - accuracy: 0.9464 - val_loss: 0.1026 - val_accuracy: 0.9554\n",
      "Epoch 14/20\n",
      "112/112 [==============================] - ETA: 0s - loss: 0.1586 - accuracy: 0.90 - 0s 232us/sample - loss: 0.1320 - accuracy: 0.9375 - val_loss: 0.1019 - val_accuracy: 0.9643\n",
      "Epoch 15/20\n",
      "112/112 [==============================] - ETA: 0s - loss: 0.1696 - accuracy: 0.90 - 0s 232us/sample - loss: 0.0997 - accuracy: 0.9643 - val_loss: 0.0918 - val_accuracy: 0.9643\n",
      "Epoch 16/20\n",
      "112/112 [==============================] - ETA: 0s - loss: 0.0795 - accuracy: 0.93 - 0s 223us/sample - loss: 0.0993 - accuracy: 0.9554 - val_loss: 0.0990 - val_accuracy: 0.9643\n",
      "Epoch 17/20\n",
      "112/112 [==============================] - ETA: 0s - loss: 0.1474 - accuracy: 0.93 - 0s 223us/sample - loss: 0.1009 - accuracy: 0.9732 - val_loss: 0.0866 - val_accuracy: 0.9643\n",
      "Epoch 18/20\n",
      "112/112 [==============================] - ETA: 0s - loss: 0.0367 - accuracy: 1.00 - 0s 232us/sample - loss: 0.1142 - accuracy: 0.9643 - val_loss: 0.1061 - val_accuracy: 0.9375\n",
      "Epoch 19/20\n",
      "112/112 [==============================] - ETA: 0s - loss: 0.1315 - accuracy: 0.90 - 0s 232us/sample - loss: 0.1035 - accuracy: 0.9464 - val_loss: 0.0838 - val_accuracy: 0.9643\n",
      "Epoch 20/20\n",
      "112/112 [==============================] - ETA: 0s - loss: 0.0372 - accuracy: 1.00 - 0s 232us/sample - loss: 0.0816 - accuracy: 0.9643 - val_loss: 0.0998 - val_accuracy: 0.9464\n",
      "Train on 112 samples, validate on 112 samples\n",
      "Epoch 1/20\n",
      "112/112 [==============================] - ETA: 0s - loss: 1.3440 - accuracy: 0.28 - 0s 3ms/sample - loss: 1.0546 - accuracy: 0.5625 - val_loss: 0.8135 - val_accuracy: 0.6607\n",
      "Epoch 2/20\n",
      "112/112 [==============================] - ETA: 0s - loss: 0.8240 - accuracy: 0.62 - 0s 2ms/sample - loss: 0.6959 - accuracy: 0.7321 - val_loss: 0.5223 - val_accuracy: 0.9732\n",
      "Epoch 3/20\n",
      "112/112 [==============================] - ETA: 0s - loss: 0.4900 - accuracy: 0.96 - 0s 321us/sample - loss: 0.4756 - accuracy: 0.8750 - val_loss: 0.3784 - val_accuracy: 0.8571\n",
      "Epoch 4/20\n",
      "112/112 [==============================] - ETA: 0s - loss: 0.3413 - accuracy: 0.87 - 0s 240us/sample - loss: 0.3597 - accuracy: 0.8482 - val_loss: 0.3234 - val_accuracy: 0.8571\n",
      "Epoch 5/20\n",
      "112/112 [==============================] - ETA: 0s - loss: 0.2182 - accuracy: 0.96 - 0s 251us/sample - loss: 0.3087 - accuracy: 0.8571 - val_loss: 0.2866 - val_accuracy: 0.8482\n",
      "Epoch 6/20\n",
      "112/112 [==============================] - ETA: 0s - loss: 0.3750 - accuracy: 0.75 - 0s 242us/sample - loss: 0.2502 - accuracy: 0.8929 - val_loss: 0.1885 - val_accuracy: 0.9286\n",
      "Epoch 7/20\n",
      "112/112 [==============================] - ETA: 0s - loss: 0.1988 - accuracy: 0.93 - 0s 258us/sample - loss: 0.1694 - accuracy: 0.9554 - val_loss: 0.1828 - val_accuracy: 0.9464\n",
      "Epoch 8/20\n",
      "112/112 [==============================] - ETA: 0s - loss: 0.1147 - accuracy: 0.96 - 0s 267us/sample - loss: 0.1679 - accuracy: 0.9554 - val_loss: 0.1530 - val_accuracy: 0.9196\n",
      "Epoch 9/20\n",
      "112/112 [==============================] - ETA: 0s - loss: 0.2076 - accuracy: 0.84 - 0s 258us/sample - loss: 0.1479 - accuracy: 0.9286 - val_loss: 0.1313 - val_accuracy: 0.9554\n",
      "Epoch 10/20\n",
      "112/112 [==============================] - ETA: 0s - loss: 0.1795 - accuracy: 0.93 - 0s 374us/sample - loss: 0.1147 - accuracy: 0.9554 - val_loss: 0.1350 - val_accuracy: 0.9196\n",
      "Epoch 11/20\n",
      "112/112 [==============================] - ETA: 0s - loss: 0.1630 - accuracy: 0.90 - 0s 249us/sample - loss: 0.1224 - accuracy: 0.9375 - val_loss: 0.1160 - val_accuracy: 0.9554\n",
      "Epoch 12/20\n",
      "112/112 [==============================] - ETA: 0s - loss: 0.0986 - accuracy: 0.96 - 0s 223us/sample - loss: 0.1046 - accuracy: 0.9643 - val_loss: 0.0992 - val_accuracy: 0.9643\n",
      "Epoch 13/20\n",
      "112/112 [==============================] - ETA: 0s - loss: 0.0902 - accuracy: 0.96 - 0s 240us/sample - loss: 0.1006 - accuracy: 0.9643 - val_loss: 0.0905 - val_accuracy: 0.9732\n",
      "Epoch 14/20\n",
      "112/112 [==============================] - ETA: 0s - loss: 0.0737 - accuracy: 1.00 - 0s 240us/sample - loss: 0.0820 - accuracy: 0.9732 - val_loss: 0.1506 - val_accuracy: 0.9196\n",
      "Epoch 15/20\n",
      "112/112 [==============================] - ETA: 0s - loss: 0.2253 - accuracy: 0.87 - 0s 205us/sample - loss: 0.1342 - accuracy: 0.9375 - val_loss: 0.0933 - val_accuracy: 0.9643\n",
      "Epoch 16/20\n",
      "112/112 [==============================] - ETA: 0s - loss: 0.0217 - accuracy: 1.00 - 0s 201us/sample - loss: 0.0930 - accuracy: 0.9464 - val_loss: 0.1029 - val_accuracy: 0.9375\n",
      "Epoch 17/20\n",
      "112/112 [==============================] - ETA: 0s - loss: 0.0901 - accuracy: 0.93 - 0s 2ms/sample - loss: 0.1188 - accuracy: 0.9375 - val_loss: 0.0824 - val_accuracy: 0.9821\n",
      "Epoch 18/20\n",
      "112/112 [==============================] - ETA: 0s - loss: 0.0420 - accuracy: 1.00 - 0s 240us/sample - loss: 0.1547 - accuracy: 0.9375 - val_loss: 0.0929 - val_accuracy: 0.9643\n",
      "Epoch 19/20\n",
      "112/112 [==============================] - ETA: 0s - loss: 0.1609 - accuracy: 0.93 - 0s 239us/sample - loss: 0.0925 - accuracy: 0.9732 - val_loss: 0.0812 - val_accuracy: 0.9821\n",
      "Epoch 20/20\n",
      "112/112 [==============================] - ETA: 0s - loss: 0.0538 - accuracy: 1.00 - 0s 254us/sample - loss: 0.0854 - accuracy: 0.9732 - val_loss: 0.0941 - val_accuracy: 0.9375\n",
      "Train on 112 samples, validate on 112 samples\n",
      "Epoch 1/20\n",
      "112/112 [==============================] - ETA: 0s - loss: 1.5149 - accuracy: 0.28 - 0s 4ms/sample - loss: 1.1314 - accuracy: 0.2857 - val_loss: 0.8004 - val_accuracy: 0.6250\n",
      "Epoch 2/20\n",
      "112/112 [==============================] - ETA: 0s - loss: 0.8331 - accuracy: 0.65 - 0s 244us/sample - loss: 0.7289 - accuracy: 0.6518 - val_loss: 0.5467 - val_accuracy: 0.6607\n",
      "Epoch 3/20\n",
      "112/112 [==============================] - ETA: 0s - loss: 0.4830 - accuracy: 0.71 - 0s 230us/sample - loss: 0.4896 - accuracy: 0.7054 - val_loss: 0.4013 - val_accuracy: 0.9107\n",
      "Epoch 4/20\n",
      "112/112 [==============================] - ETA: 0s - loss: 0.3817 - accuracy: 0.90 - 0s 240us/sample - loss: 0.4443 - accuracy: 0.7321 - val_loss: 0.3688 - val_accuracy: 0.7946\n",
      "Epoch 5/20\n",
      "112/112 [==============================] - ETA: 0s - loss: 0.3285 - accuracy: 0.87 - 0s 243us/sample - loss: 0.4098 - accuracy: 0.7411 - val_loss: 0.2744 - val_accuracy: 0.9643\n",
      "Epoch 6/20\n",
      "112/112 [==============================] - ETA: 0s - loss: 0.3464 - accuracy: 0.96 - 0s 267us/sample - loss: 0.3721 - accuracy: 0.8214 - val_loss: 0.3049 - val_accuracy: 0.8661\n",
      "Epoch 7/20\n",
      "112/112 [==============================] - ETA: 0s - loss: 0.2687 - accuracy: 0.90 - 0s 247us/sample - loss: 0.2818 - accuracy: 0.8839 - val_loss: 0.3327 - val_accuracy: 0.8036\n",
      "Epoch 8/20\n",
      "112/112 [==============================] - ETA: 0s - loss: 0.3684 - accuracy: 0.78 - 0s 276us/sample - loss: 0.2831 - accuracy: 0.8929 - val_loss: 0.2523 - val_accuracy: 0.9107\n",
      "Epoch 9/20\n",
      "112/112 [==============================] - ETA: 0s - loss: 0.3370 - accuracy: 0.87 - 0s 276us/sample - loss: 0.2305 - accuracy: 0.9196 - val_loss: 0.1931 - val_accuracy: 0.9643\n",
      "Epoch 10/20\n",
      "112/112 [==============================] - ETA: 0s - loss: 0.1458 - accuracy: 1.00 - 0s 249us/sample - loss: 0.2142 - accuracy: 0.9196 - val_loss: 0.1652 - val_accuracy: 0.9732\n",
      "Epoch 11/20\n",
      "112/112 [==============================] - ETA: 0s - loss: 0.1367 - accuracy: 1.00 - 0s 258us/sample - loss: 0.1680 - accuracy: 0.9464 - val_loss: 0.1528 - val_accuracy: 0.9643\n",
      "Epoch 12/20\n",
      "112/112 [==============================] - ETA: 0s - loss: 0.1177 - accuracy: 0.96 - 0s 240us/sample - loss: 0.1538 - accuracy: 0.9554 - val_loss: 0.1477 - val_accuracy: 0.9643\n",
      "Epoch 13/20\n",
      "112/112 [==============================] - ETA: 0s - loss: 0.1187 - accuracy: 0.96 - 0s 236us/sample - loss: 0.1430 - accuracy: 0.9464 - val_loss: 0.1311 - val_accuracy: 0.9554\n",
      "Epoch 14/20\n",
      "112/112 [==============================] - ETA: 0s - loss: 0.0859 - accuracy: 1.00 - 0s 254us/sample - loss: 0.1328 - accuracy: 0.9732 - val_loss: 0.1265 - val_accuracy: 0.9643\n",
      "Epoch 15/20\n",
      "112/112 [==============================] - ETA: 0s - loss: 0.1371 - accuracy: 0.96 - 0s 223us/sample - loss: 0.1186 - accuracy: 0.9643 - val_loss: 0.1142 - val_accuracy: 0.9643\n",
      "Epoch 16/20\n",
      "112/112 [==============================] - ETA: 0s - loss: 0.1298 - accuracy: 0.96 - 0s 240us/sample - loss: 0.1374 - accuracy: 0.9554 - val_loss: 0.1212 - val_accuracy: 0.9375\n",
      "Epoch 17/20\n",
      "112/112 [==============================] - ETA: 0s - loss: 0.1002 - accuracy: 1.00 - 0s 214us/sample - loss: 0.1985 - accuracy: 0.9196 - val_loss: 0.1224 - val_accuracy: 0.9554\n",
      "Epoch 18/20\n",
      "112/112 [==============================] - ETA: 0s - loss: 0.1065 - accuracy: 0.96 - 0s 223us/sample - loss: 0.1513 - accuracy: 0.9464 - val_loss: 0.0975 - val_accuracy: 0.9821\n",
      "Epoch 19/20\n",
      "112/112 [==============================] - ETA: 0s - loss: 0.1172 - accuracy: 0.96 - 0s 232us/sample - loss: 0.0970 - accuracy: 0.9732 - val_loss: 0.1027 - val_accuracy: 0.9643\n",
      "Epoch 20/20\n",
      "112/112 [==============================] - ETA: 0s - loss: 0.0830 - accuracy: 0.96 - 0s 224us/sample - loss: 0.1049 - accuracy: 0.9464 - val_loss: 0.1295 - val_accuracy: 0.9464\n"
     ]
    },
    {
     "data": {
      "text/html": [
       "<span style=\"color:#4527A0\"><h1 style=\"font-size:18px\">Trial complete</h1></span>"
      ],
      "text/plain": [
       "<IPython.core.display.HTML object>"
      ]
     },
     "metadata": {},
     "output_type": "display_data"
    },
    {
     "data": {
      "text/html": [
       "<span style=\"color:#4527A0\"><h1 style=\"font-size:18px\">Trial summary</h1></span>"
      ],
      "text/plain": [
       "<IPython.core.display.HTML object>"
      ]
     },
     "metadata": {},
     "output_type": "display_data"
    },
    {
     "data": {
      "text/html": [
       "<span style=\"color:cyan\"> |-Trial ID: 929c7511a2c3625f14052e284d461f64</span>"
      ],
      "text/plain": [
       "<IPython.core.display.HTML object>"
      ]
     },
     "metadata": {},
     "output_type": "display_data"
    },
    {
     "data": {
      "text/html": [
       "<span style=\"color:cyan\"> |-Score: 0.9761905074119568</span>"
      ],
      "text/plain": [
       "<IPython.core.display.HTML object>"
      ]
     },
     "metadata": {},
     "output_type": "display_data"
    },
    {
     "data": {
      "text/html": [
       "<span style=\"color:cyan\"> |-Best step: 0</span>"
      ],
      "text/plain": [
       "<IPython.core.display.HTML object>"
      ]
     },
     "metadata": {},
     "output_type": "display_data"
    },
    {
     "data": {
      "text/html": [
       "<span style=\"color:#7E57C2\"><h2 style=\"font-size:16px\">Hyperparameters:</h2></span>"
      ],
      "text/plain": [
       "<IPython.core.display.HTML object>"
      ]
     },
     "metadata": {},
     "output_type": "display_data"
    },
    {
     "data": {
      "text/html": [
       "<span style=\"color:cyan\"> |-learning_rate: 0.01</span>"
      ],
      "text/plain": [
       "<IPython.core.display.HTML object>"
      ]
     },
     "metadata": {},
     "output_type": "display_data"
    },
    {
     "data": {
      "text/html": [
       "<span style=\"color:blue\"> |-units: 60</span>"
      ],
      "text/plain": [
       "<IPython.core.display.HTML object>"
      ]
     },
     "metadata": {},
     "output_type": "display_data"
    },
    {
     "name": "stdout",
     "output_type": "stream",
     "text": [
      "Train on 112 samples, validate on 112 samples\n",
      "Epoch 1/20\n",
      "112/112 [==============================] - ETA: 0s - loss: 1.7066 - accuracy: 0.28 - 1s 5ms/sample - loss: 1.7671 - accuracy: 0.3393 - val_loss: 1.7243 - val_accuracy: 0.3393\n",
      "Epoch 2/20\n",
      "112/112 [==============================] - ETA: 0s - loss: 1.5420 - accuracy: 0.43 - 0s 240us/sample - loss: 1.7030 - accuracy: 0.3393 - val_loss: 1.6627 - val_accuracy: 0.3393\n",
      "Epoch 3/20\n",
      "112/112 [==============================] - ETA: 0s - loss: 1.6868 - accuracy: 0.34 - 0s 222us/sample - loss: 1.6430 - accuracy: 0.3393 - val_loss: 1.6033 - val_accuracy: 0.3393\n",
      "Epoch 4/20\n",
      "112/112 [==============================] - ETA: 0s - loss: 1.8631 - accuracy: 0.31 - 0s 232us/sample - loss: 1.5877 - accuracy: 0.3393 - val_loss: 1.5471 - val_accuracy: 0.3393\n",
      "Epoch 5/20\n",
      "112/112 [==============================] - ETA: 0s - loss: 1.6890 - accuracy: 0.28 - 0s 276us/sample - loss: 1.5307 - accuracy: 0.3393 - val_loss: 1.4958 - val_accuracy: 0.3393\n",
      "Epoch 6/20\n",
      "112/112 [==============================] - ETA: 0s - loss: 1.8108 - accuracy: 0.28 - 0s 240us/sample - loss: 1.4837 - accuracy: 0.3393 - val_loss: 1.4474 - val_accuracy: 0.3393\n",
      "Epoch 7/20\n",
      "112/112 [==============================] - ETA: 0s - loss: 1.2872 - accuracy: 0.46 - 0s 202us/sample - loss: 1.4323 - accuracy: 0.3393 - val_loss: 1.4033 - val_accuracy: 0.3393\n",
      "Epoch 8/20\n",
      "112/112 [==============================] - ETA: 0s - loss: 1.2445 - accuracy: 0.40 - 0s 220us/sample - loss: 1.3883 - accuracy: 0.3393 - val_loss: 1.3620 - val_accuracy: 0.3393\n",
      "Epoch 9/20\n",
      "112/112 [==============================] - ETA: 0s - loss: 1.6460 - accuracy: 0.18 - 0s 267us/sample - loss: 1.3534 - accuracy: 0.3393 - val_loss: 1.3232 - val_accuracy: 0.3393\n",
      "Epoch 10/20\n",
      "112/112 [==============================] - ETA: 0s - loss: 1.3121 - accuracy: 0.37 - 0s 214us/sample - loss: 1.3121 - accuracy: 0.3393 - val_loss: 1.2892 - val_accuracy: 0.3393\n",
      "Epoch 11/20\n",
      "112/112 [==============================] - ETA: 0s - loss: 1.1527 - accuracy: 0.37 - 0s 214us/sample - loss: 1.2774 - accuracy: 0.3393 - val_loss: 1.2578 - val_accuracy: 0.3393\n",
      "Epoch 12/20\n",
      "112/112 [==============================] - ETA: 0s - loss: 1.1119 - accuracy: 0.43 - 0s 226us/sample - loss: 1.2466 - accuracy: 0.3393 - val_loss: 1.2287 - val_accuracy: 0.3393\n",
      "Epoch 13/20\n",
      "112/112 [==============================] - ETA: 0s - loss: 1.2760 - accuracy: 0.28 - 0s 223us/sample - loss: 1.2206 - accuracy: 0.3393 - val_loss: 1.2020 - val_accuracy: 0.3393\n",
      "Epoch 14/20\n",
      "112/112 [==============================] - ETA: 0s - loss: 1.2396 - accuracy: 0.31 - 0s 223us/sample - loss: 1.1949 - accuracy: 0.3393 - val_loss: 1.1786 - val_accuracy: 0.3393\n",
      "Epoch 15/20\n",
      "112/112 [==============================] - ETA: 0s - loss: 1.1890 - accuracy: 0.34 - 0s 223us/sample - loss: 1.1731 - accuracy: 0.3393 - val_loss: 1.1577 - val_accuracy: 0.3393\n",
      "Epoch 16/20\n",
      "112/112 [==============================] - ETA: 0s - loss: 1.1948 - accuracy: 0.28 - 0s 223us/sample - loss: 1.1526 - accuracy: 0.3393 - val_loss: 1.1397 - val_accuracy: 0.3393\n",
      "Epoch 17/20\n",
      "112/112 [==============================] - ETA: 0s - loss: 1.1742 - accuracy: 0.31 - 0s 218us/sample - loss: 1.1348 - accuracy: 0.3393 - val_loss: 1.1239 - val_accuracy: 0.3393\n",
      "Epoch 18/20\n",
      "112/112 [==============================] - ETA: 0s - loss: 1.1085 - accuracy: 0.31 - 0s 245us/sample - loss: 1.1190 - accuracy: 0.3393 - val_loss: 1.1098 - val_accuracy: 0.3393\n",
      "Epoch 19/20\n",
      "112/112 [==============================] - ETA: 0s - loss: 1.1709 - accuracy: 0.21 - 0s 240us/sample - loss: 1.1064 - accuracy: 0.3393 - val_loss: 1.0970 - val_accuracy: 0.3393\n",
      "Epoch 20/20\n",
      "112/112 [==============================] - ETA: 0s - loss: 1.1202 - accuracy: 0.28 - 0s 214us/sample - loss: 1.0933 - accuracy: 0.3393 - val_loss: 1.0856 - val_accuracy: 0.3393\n",
      "Train on 112 samples, validate on 112 samples\n",
      "Epoch 1/20\n",
      "112/112 [==============================] - ETA: 0s - loss: 1.3164 - accuracy: 0.43 - 0s 3ms/sample - loss: 1.5451 - accuracy: 0.3393 - val_loss: 1.5089 - val_accuracy: 0.3393\n",
      "Epoch 2/20\n",
      "112/112 [==============================] - ETA: 0s - loss: 1.7101 - accuracy: 0.25 - 0s 223us/sample - loss: 1.4929 - accuracy: 0.3393 - val_loss: 1.4564 - val_accuracy: 0.3393\n",
      "Epoch 3/20\n",
      "112/112 [==============================] - ETA: 0s - loss: 1.5617 - accuracy: 0.28 - 0s 223us/sample - loss: 1.4413 - accuracy: 0.3393 - val_loss: 1.4071 - val_accuracy: 0.3393\n",
      "Epoch 4/20\n",
      "112/112 [==============================] - ETA: 0s - loss: 1.4361 - accuracy: 0.31 - 0s 205us/sample - loss: 1.3920 - accuracy: 0.3393 - val_loss: 1.3604 - val_accuracy: 0.3393\n",
      "Epoch 5/20\n",
      "112/112 [==============================] - ETA: 0s - loss: 1.4365 - accuracy: 0.31 - 0s 214us/sample - loss: 1.3466 - accuracy: 0.3393 - val_loss: 1.3159 - val_accuracy: 0.3393\n",
      "Epoch 6/20\n",
      "112/112 [==============================] - ETA: 0s - loss: 1.3899 - accuracy: 0.28 - 0s 205us/sample - loss: 1.3041 - accuracy: 0.3393 - val_loss: 1.2741 - val_accuracy: 0.3393\n",
      "Epoch 7/20\n",
      "112/112 [==============================] - ETA: 0s - loss: 1.2626 - accuracy: 0.28 - 0s 249us/sample - loss: 1.2640 - accuracy: 0.3393 - val_loss: 1.2359 - val_accuracy: 0.3393\n",
      "Epoch 8/20\n",
      "112/112 [==============================] - ETA: 0s - loss: 1.0963 - accuracy: 0.40 - 0s 240us/sample - loss: 1.2246 - accuracy: 0.3393 - val_loss: 1.2012 - val_accuracy: 0.3393\n",
      "Epoch 9/20\n",
      "112/112 [==============================] - ETA: 0s - loss: 1.0913 - accuracy: 0.37 - 0s 240us/sample - loss: 1.1908 - accuracy: 0.3393 - val_loss: 1.1689 - val_accuracy: 0.3393\n",
      "Epoch 10/20\n",
      "112/112 [==============================] - ETA: 0s - loss: 1.0934 - accuracy: 0.37 - 0s 214us/sample - loss: 1.1588 - accuracy: 0.3393 - val_loss: 1.1386 - val_accuracy: 0.3393\n",
      "Epoch 11/20\n",
      "112/112 [==============================] - ETA: 0s - loss: 1.1523 - accuracy: 0.37 - 0s 214us/sample - loss: 1.1309 - accuracy: 0.3393 - val_loss: 1.1102 - val_accuracy: 0.3393\n",
      "Epoch 12/20\n",
      "112/112 [==============================] - ETA: 0s - loss: 1.1959 - accuracy: 0.25 - 0s 232us/sample - loss: 1.1021 - accuracy: 0.3393 - val_loss: 1.0844 - val_accuracy: 0.3393\n",
      "Epoch 13/20\n",
      "112/112 [==============================] - ETA: 0s - loss: 1.0544 - accuracy: 0.40 - 0s 227us/sample - loss: 1.0760 - accuracy: 0.3393 - val_loss: 1.0602 - val_accuracy: 0.3393\n",
      "Epoch 14/20\n",
      "112/112 [==============================] - ETA: 0s - loss: 1.0314 - accuracy: 0.37 - 0s 214us/sample - loss: 1.0519 - accuracy: 0.3393 - val_loss: 1.0377 - val_accuracy: 0.3393\n",
      "Epoch 15/20\n",
      "112/112 [==============================] - ETA: 0s - loss: 1.0657 - accuracy: 0.31 - 0s 220us/sample - loss: 1.0321 - accuracy: 0.3393 - val_loss: 1.0164 - val_accuracy: 0.3393\n",
      "Epoch 16/20\n",
      "112/112 [==============================] - ETA: 0s - loss: 0.9734 - accuracy: 0.37 - 0s 222us/sample - loss: 1.0090 - accuracy: 0.3393 - val_loss: 0.9975 - val_accuracy: 0.3393\n",
      "Epoch 17/20\n",
      "112/112 [==============================] - ETA: 0s - loss: 0.9739 - accuracy: 0.37 - 0s 222us/sample - loss: 0.9915 - accuracy: 0.3393 - val_loss: 0.9793 - val_accuracy: 0.3393\n",
      "Epoch 18/20\n",
      "112/112 [==============================] - ETA: 0s - loss: 0.9833 - accuracy: 0.34 - 0s 223us/sample - loss: 0.9741 - accuracy: 0.3393 - val_loss: 0.9624 - val_accuracy: 0.3393\n",
      "Epoch 19/20\n",
      "112/112 [==============================] - ETA: 0s - loss: 0.9366 - accuracy: 0.34 - 0s 223us/sample - loss: 0.9565 - accuracy: 0.3393 - val_loss: 0.9469 - val_accuracy: 0.3393\n",
      "Epoch 20/20\n",
      "112/112 [==============================] - ETA: 0s - loss: 0.9800 - accuracy: 0.25 - 0s 214us/sample - loss: 0.9428 - accuracy: 0.3393 - val_loss: 0.9316 - val_accuracy: 0.3393\n",
      "Train on 112 samples, validate on 112 samples\n",
      "Epoch 1/20\n",
      "112/112 [==============================] - ETA: 0s - loss: 1.3309 - accuracy: 0.34 - 1s 5ms/sample - loss: 1.4021 - accuracy: 0.4464 - val_loss: 1.3687 - val_accuracy: 0.5357\n",
      "Epoch 2/20\n",
      "112/112 [==============================] - ETA: 0s - loss: 1.3115 - accuracy: 0.53 - 0s 2ms/sample - loss: 1.3505 - accuracy: 0.5804 - val_loss: 1.3227 - val_accuracy: 0.6429\n",
      "Epoch 3/20\n",
      "112/112 [==============================] - ETA: 0s - loss: 1.3952 - accuracy: 0.59 - 0s 2ms/sample - loss: 1.3094 - accuracy: 0.6429 - val_loss: 1.2795 - val_accuracy: 0.6518\n",
      "Epoch 4/20\n",
      "112/112 [==============================] - ETA: 0s - loss: 1.1957 - accuracy: 0.68 - 0s 2ms/sample - loss: 1.2649 - accuracy: 0.6518 - val_loss: 1.2406 - val_accuracy: 0.6607\n",
      "Epoch 5/20\n",
      "112/112 [==============================] - ETA: 0s - loss: 1.4206 - accuracy: 0.53 - 0s 222us/sample - loss: 1.2295 - accuracy: 0.6607 - val_loss: 1.2050 - val_accuracy: 0.6607\n",
      "Epoch 6/20\n",
      "112/112 [==============================] - ETA: 0s - loss: 1.1082 - accuracy: 0.71 - 0s 223us/sample - loss: 1.1940 - accuracy: 0.6607 - val_loss: 1.1729 - val_accuracy: 0.6607\n",
      "Epoch 7/20\n",
      "112/112 [==============================] - ETA: 0s - loss: 1.3158 - accuracy: 0.53 - 0s 214us/sample - loss: 1.1660 - accuracy: 0.6607 - val_loss: 1.1445 - val_accuracy: 0.6607\n",
      "Epoch 8/20\n",
      "112/112 [==============================] - ETA: 0s - loss: 1.1578 - accuracy: 0.65 - 0s 223us/sample - loss: 1.1361 - accuracy: 0.6607 - val_loss: 1.1196 - val_accuracy: 0.6607\n",
      "Epoch 9/20\n",
      "112/112 [==============================] - ETA: 0s - loss: 1.1408 - accuracy: 0.65 - 0s 214us/sample - loss: 1.1133 - accuracy: 0.6607 - val_loss: 1.0967 - val_accuracy: 0.6607\n",
      "Epoch 10/20\n",
      "112/112 [==============================] - ETA: 0s - loss: 1.1943 - accuracy: 0.53 - 0s 208us/sample - loss: 1.0917 - accuracy: 0.6607 - val_loss: 1.0761 - val_accuracy: 0.6607\n",
      "Epoch 11/20\n",
      "112/112 [==============================] - ETA: 0s - loss: 1.0406 - accuracy: 0.71 - 0s 212us/sample - loss: 1.0695 - accuracy: 0.6607 - val_loss: 1.0581 - val_accuracy: 0.6607\n",
      "Epoch 12/20\n",
      "112/112 [==============================] - ETA: 0s - loss: 1.0791 - accuracy: 0.62 - 0s 232us/sample - loss: 1.0534 - accuracy: 0.6607 - val_loss: 1.0412 - val_accuracy: 0.6607\n",
      "Epoch 13/20\n",
      "112/112 [==============================] - ETA: 0s - loss: 1.0232 - accuracy: 0.71 - 0s 223us/sample - loss: 1.0354 - accuracy: 0.6607 - val_loss: 1.0262 - val_accuracy: 0.6607\n",
      "Epoch 14/20\n",
      "112/112 [==============================] - ETA: 0s - loss: 1.0550 - accuracy: 0.59 - 0s 249us/sample - loss: 1.0219 - accuracy: 0.6607 - val_loss: 1.0120 - val_accuracy: 0.6607\n",
      "Epoch 15/20\n",
      "112/112 [==============================] - ETA: 0s - loss: 1.0045 - accuracy: 0.68 - 0s 220us/sample - loss: 1.0072 - accuracy: 0.6607 - val_loss: 0.9991 - val_accuracy: 0.6607\n",
      "Epoch 16/20\n",
      "112/112 [==============================] - ETA: 0s - loss: 1.0081 - accuracy: 0.59 - 0s 214us/sample - loss: 0.9951 - accuracy: 0.6607 - val_loss: 0.9871 - val_accuracy: 0.6607\n",
      "Epoch 17/20\n",
      "112/112 [==============================] - ETA: 0s - loss: 0.9890 - accuracy: 0.59 - 0s 196us/sample - loss: 0.9842 - accuracy: 0.6518 - val_loss: 0.9760 - val_accuracy: 0.6429\n",
      "Epoch 18/20\n",
      "112/112 [==============================] - ETA: 0s - loss: 0.9924 - accuracy: 0.53 - 0s 205us/sample - loss: 0.9730 - accuracy: 0.6339 - val_loss: 0.9658 - val_accuracy: 0.5804\n",
      "Epoch 19/20\n",
      "112/112 [==============================] - ETA: 0s - loss: 0.9624 - accuracy: 0.62 - 0s 205us/sample - loss: 0.9628 - accuracy: 0.5536 - val_loss: 0.9562 - val_accuracy: 0.5000\n",
      "Epoch 20/20\n",
      "112/112 [==============================] - ETA: 0s - loss: 0.9535 - accuracy: 0.56 - 0s 205us/sample - loss: 0.9533 - accuracy: 0.5000 - val_loss: 0.9470 - val_accuracy: 0.4732\n"
     ]
    },
    {
     "data": {
      "text/html": [
       "<span style=\"color:#4527A0\"><h1 style=\"font-size:18px\">Trial complete</h1></span>"
      ],
      "text/plain": [
       "<IPython.core.display.HTML object>"
      ]
     },
     "metadata": {},
     "output_type": "display_data"
    },
    {
     "data": {
      "text/html": [
       "<span style=\"color:#4527A0\"><h1 style=\"font-size:18px\">Trial summary</h1></span>"
      ],
      "text/plain": [
       "<IPython.core.display.HTML object>"
      ]
     },
     "metadata": {},
     "output_type": "display_data"
    },
    {
     "data": {
      "text/html": [
       "<span style=\"color:cyan\"> |-Trial ID: 3daeb8fc92d593b1bd0970d71e637295</span>"
      ],
      "text/plain": [
       "<IPython.core.display.HTML object>"
      ]
     },
     "metadata": {},
     "output_type": "display_data"
    },
    {
     "data": {
      "text/html": [
       "<span style=\"color:cyan\"> |-Score: 0.4464285373687744</span>"
      ],
      "text/plain": [
       "<IPython.core.display.HTML object>"
      ]
     },
     "metadata": {},
     "output_type": "display_data"
    },
    {
     "data": {
      "text/html": [
       "<span style=\"color:cyan\"> |-Best step: 0</span>"
      ],
      "text/plain": [
       "<IPython.core.display.HTML object>"
      ]
     },
     "metadata": {},
     "output_type": "display_data"
    },
    {
     "data": {
      "text/html": [
       "<span style=\"color:#7E57C2\"><h2 style=\"font-size:16px\">Hyperparameters:</h2></span>"
      ],
      "text/plain": [
       "<IPython.core.display.HTML object>"
      ]
     },
     "metadata": {},
     "output_type": "display_data"
    },
    {
     "data": {
      "text/html": [
       "<span style=\"color:cyan\"> |-learning_rate: 0.0001</span>"
      ],
      "text/plain": [
       "<IPython.core.display.HTML object>"
      ]
     },
     "metadata": {},
     "output_type": "display_data"
    },
    {
     "data": {
      "text/html": [
       "<span style=\"color:blue\"> |-units: 80</span>"
      ],
      "text/plain": [
       "<IPython.core.display.HTML object>"
      ]
     },
     "metadata": {},
     "output_type": "display_data"
    },
    {
     "name": "stdout",
     "output_type": "stream",
     "text": [
      "Train on 112 samples, validate on 112 samples\n",
      "Epoch 1/20\n",
      "112/112 [==============================] - ETA: 0s - loss: 1.3991 - accuracy: 0.28 - 1s 6ms/sample - loss: 1.6366 - accuracy: 0.3125 - val_loss: 1.1586 - val_accuracy: 0.3750\n",
      "Epoch 2/20\n",
      "112/112 [==============================] - ETA: 0s - loss: 1.1023 - accuracy: 0.40 - 0s 2ms/sample - loss: 1.0590 - accuracy: 0.5000 - val_loss: 0.6989 - val_accuracy: 0.7232\n",
      "Epoch 3/20\n",
      "112/112 [==============================] - ETA: 0s - loss: 0.6889 - accuracy: 0.78 - 0s 347us/sample - loss: 0.6447 - accuracy: 0.6875 - val_loss: 0.6241 - val_accuracy: 0.6607\n",
      "Epoch 4/20\n",
      "112/112 [==============================] - ETA: 0s - loss: 0.5857 - accuracy: 0.71 - 0s 223us/sample - loss: 0.5896 - accuracy: 0.6607 - val_loss: 0.4812 - val_accuracy: 0.7232\n",
      "Epoch 5/20\n",
      "112/112 [==============================] - ETA: 0s - loss: 0.4712 - accuracy: 0.71 - 0s 2ms/sample - loss: 0.4560 - accuracy: 0.8214 - val_loss: 0.4220 - val_accuracy: 0.9732\n",
      "Epoch 6/20\n",
      "112/112 [==============================] - ETA: 0s - loss: 0.3703 - accuracy: 1.00 - 0s 231us/sample - loss: 0.4172 - accuracy: 0.9286 - val_loss: 0.3806 - val_accuracy: 0.9554\n",
      "Epoch 7/20\n",
      "112/112 [==============================] - ETA: 0s - loss: 0.3647 - accuracy: 0.90 - 0s 214us/sample - loss: 0.3665 - accuracy: 0.8839 - val_loss: 0.3340 - val_accuracy: 0.8661\n",
      "Epoch 8/20\n",
      "112/112 [==============================] - ETA: 0s - loss: 0.3767 - accuracy: 0.78 - 0s 233us/sample - loss: 0.3312 - accuracy: 0.8929 - val_loss: 0.2791 - val_accuracy: 0.9732\n",
      "Epoch 9/20\n",
      "112/112 [==============================] - ETA: 0s - loss: 0.2697 - accuracy: 0.96 - 0s 223us/sample - loss: 0.2660 - accuracy: 0.9375 - val_loss: 0.2430 - val_accuracy: 0.9375\n",
      "Epoch 10/20\n",
      "112/112 [==============================] - ETA: 0s - loss: 0.2179 - accuracy: 0.96 - 0s 214us/sample - loss: 0.2153 - accuracy: 0.9643 - val_loss: 0.2526 - val_accuracy: 0.9018\n",
      "Epoch 11/20\n",
      "112/112 [==============================] - ETA: 0s - loss: 0.2236 - accuracy: 0.93 - 0s 214us/sample - loss: 0.2117 - accuracy: 0.9375 - val_loss: 0.2700 - val_accuracy: 0.8571\n",
      "Epoch 12/20\n",
      "112/112 [==============================] - ETA: 0s - loss: 0.2795 - accuracy: 0.84 - 0s 223us/sample - loss: 0.2327 - accuracy: 0.8929 - val_loss: 0.2387 - val_accuracy: 0.8929\n",
      "Epoch 13/20\n",
      "112/112 [==============================] - ETA: 0s - loss: 0.3538 - accuracy: 0.81 - 0s 212us/sample - loss: 0.2034 - accuracy: 0.8929 - val_loss: 0.2077 - val_accuracy: 0.9196\n",
      "Epoch 14/20\n",
      "112/112 [==============================] - ETA: 0s - loss: 0.2979 - accuracy: 0.90 - 0s 205us/sample - loss: 0.1771 - accuracy: 0.9375 - val_loss: 0.1663 - val_accuracy: 0.9196\n",
      "Epoch 15/20\n",
      "112/112 [==============================] - ETA: 0s - loss: 0.2102 - accuracy: 0.87 - 0s 214us/sample - loss: 0.1306 - accuracy: 0.9464 - val_loss: 0.1806 - val_accuracy: 0.9286\n",
      "Epoch 16/20\n",
      "112/112 [==============================] - ETA: 0s - loss: 0.1653 - accuracy: 0.96 - 0s 223us/sample - loss: 0.1560 - accuracy: 0.9464 - val_loss: 0.2234 - val_accuracy: 0.9107\n",
      "Epoch 17/20\n",
      "112/112 [==============================] - ETA: 0s - loss: 0.2737 - accuracy: 0.90 - 0s 285us/sample - loss: 0.1573 - accuracy: 0.9554 - val_loss: 0.1639 - val_accuracy: 0.9464\n",
      "Epoch 18/20\n",
      "112/112 [==============================] - ETA: 0s - loss: 0.1288 - accuracy: 0.96 - 0s 240us/sample - loss: 0.1517 - accuracy: 0.9554 - val_loss: 0.1362 - val_accuracy: 0.9196\n",
      "Epoch 19/20\n",
      "112/112 [==============================] - ETA: 0s - loss: 0.1044 - accuracy: 0.96 - 0s 223us/sample - loss: 0.1431 - accuracy: 0.9554 - val_loss: 0.1683 - val_accuracy: 0.9464\n",
      "Epoch 20/20\n",
      "112/112 [==============================] - ETA: 0s - loss: 0.1507 - accuracy: 0.93 - 0s 214us/sample - loss: 0.2186 - accuracy: 0.9107 - val_loss: 0.1110 - val_accuracy: 0.9554\n",
      "Train on 112 samples, validate on 112 samples\n",
      "Epoch 1/20\n",
      "112/112 [==============================] - ETA: 0s - loss: 1.2000 - accuracy: 0.03 - 0s 4ms/sample - loss: 1.1461 - accuracy: 0.3125 - val_loss: 0.8330 - val_accuracy: 0.5893\n",
      "Epoch 2/20\n",
      "112/112 [==============================] - ETA: 0s - loss: 0.7625 - accuracy: 0.62 - 0s 214us/sample - loss: 0.6569 - accuracy: 0.6607 - val_loss: 0.4954 - val_accuracy: 0.8482\n",
      "Epoch 3/20\n",
      "112/112 [==============================] - ETA: 0s - loss: 0.4763 - accuracy: 0.87 - 0s 205us/sample - loss: 0.4878 - accuracy: 0.7857 - val_loss: 0.3489 - val_accuracy: 0.8929\n",
      "Epoch 4/20\n",
      "112/112 [==============================] - ETA: 0s - loss: 0.2985 - accuracy: 1.00 - 0s 232us/sample - loss: 0.3717 - accuracy: 0.8482 - val_loss: 0.3688 - val_accuracy: 0.8214\n",
      "Epoch 5/20\n",
      "112/112 [==============================] - ETA: 0s - loss: 0.3396 - accuracy: 0.71 - 0s 223us/sample - loss: 0.3177 - accuracy: 0.8750 - val_loss: 0.2543 - val_accuracy: 0.9018\n",
      "Epoch 6/20\n",
      "112/112 [==============================] - ETA: 0s - loss: 0.2089 - accuracy: 0.93 - 0s 232us/sample - loss: 0.2324 - accuracy: 0.9286 - val_loss: 0.2336 - val_accuracy: 0.9196\n",
      "Epoch 7/20\n",
      "112/112 [==============================] - ETA: 0s - loss: 0.2025 - accuracy: 0.90 - 0s 232us/sample - loss: 0.1907 - accuracy: 0.9643 - val_loss: 0.2076 - val_accuracy: 0.9107\n",
      "Epoch 8/20\n",
      "112/112 [==============================] - ETA: 0s - loss: 0.1439 - accuracy: 0.93 - 0s 223us/sample - loss: 0.1859 - accuracy: 0.9375 - val_loss: 0.1490 - val_accuracy: 0.9464\n",
      "Epoch 9/20\n",
      "112/112 [==============================] - ETA: 0s - loss: 0.1481 - accuracy: 0.90 - 0s 223us/sample - loss: 0.1542 - accuracy: 0.9375 - val_loss: 0.1195 - val_accuracy: 0.9643\n",
      "Epoch 10/20\n",
      "112/112 [==============================] - ETA: 0s - loss: 0.1199 - accuracy: 0.96 - 0s 214us/sample - loss: 0.1270 - accuracy: 0.9554 - val_loss: 0.1411 - val_accuracy: 0.9464\n",
      "Epoch 11/20\n",
      "112/112 [==============================] - ETA: 0s - loss: 0.0778 - accuracy: 0.96 - 0s 232us/sample - loss: 0.1602 - accuracy: 0.9464 - val_loss: 0.2749 - val_accuracy: 0.8750\n",
      "Epoch 12/20\n",
      "112/112 [==============================] - ETA: 0s - loss: 0.3676 - accuracy: 0.84 - 0s 223us/sample - loss: 0.2204 - accuracy: 0.9107 - val_loss: 0.1456 - val_accuracy: 0.9464\n",
      "Epoch 13/20\n",
      "112/112 [==============================] - ETA: 0s - loss: 0.1777 - accuracy: 0.93 - 0s 223us/sample - loss: 0.1841 - accuracy: 0.9375 - val_loss: 0.0945 - val_accuracy: 0.9732\n",
      "Epoch 14/20\n",
      "112/112 [==============================] - ETA: 0s - loss: 0.1299 - accuracy: 0.96 - 0s 267us/sample - loss: 0.1512 - accuracy: 0.9464 - val_loss: 0.0932 - val_accuracy: 0.9643\n",
      "Epoch 15/20\n",
      "112/112 [==============================] - ETA: 0s - loss: 0.0779 - accuracy: 0.96 - 0s 232us/sample - loss: 0.1680 - accuracy: 0.9375 - val_loss: 0.1181 - val_accuracy: 0.9464\n",
      "Epoch 16/20\n",
      "112/112 [==============================] - ETA: 0s - loss: 0.0565 - accuracy: 1.00 - 0s 223us/sample - loss: 0.1820 - accuracy: 0.9464 - val_loss: 0.0948 - val_accuracy: 0.9643\n",
      "Epoch 17/20\n",
      "112/112 [==============================] - ETA: 0s - loss: 0.0966 - accuracy: 0.93 - 0s 214us/sample - loss: 0.1578 - accuracy: 0.9375 - val_loss: 0.1032 - val_accuracy: 0.9554\n",
      "Epoch 18/20\n",
      "112/112 [==============================] - ETA: 0s - loss: 0.0292 - accuracy: 1.00 - 0s 239us/sample - loss: 0.1889 - accuracy: 0.9196 - val_loss: 0.0899 - val_accuracy: 0.9554\n",
      "Epoch 19/20\n",
      "112/112 [==============================] - ETA: 0s - loss: 0.0314 - accuracy: 0.96 - 0s 232us/sample - loss: 0.1396 - accuracy: 0.9375 - val_loss: 0.0897 - val_accuracy: 0.9732\n",
      "Epoch 20/20\n",
      "112/112 [==============================] - ETA: 0s - loss: 0.0871 - accuracy: 0.96 - 0s 205us/sample - loss: 0.1357 - accuracy: 0.9464 - val_loss: 0.0857 - val_accuracy: 0.9732\n",
      "Train on 112 samples, validate on 112 samples\n",
      "Epoch 1/20\n",
      "112/112 [==============================] - ETA: 0s - loss: 1.2121 - accuracy: 0.25 - 0s 4ms/sample - loss: 1.0286 - accuracy: 0.3750 - val_loss: 0.6531 - val_accuracy: 0.7054\n",
      "Epoch 2/20\n",
      "112/112 [==============================] - ETA: 0s - loss: 0.7411 - accuracy: 0.65 - 0s 232us/sample - loss: 0.5821 - accuracy: 0.7321 - val_loss: 0.4529 - val_accuracy: 0.6786\n",
      "Epoch 3/20\n",
      "112/112 [==============================] - ETA: 0s - loss: 0.5474 - accuracy: 0.59 - 0s 209us/sample - loss: 0.4215 - accuracy: 0.8393 - val_loss: 0.3284 - val_accuracy: 0.9196\n",
      "Epoch 4/20\n",
      "112/112 [==============================] - ETA: 0s - loss: 0.3373 - accuracy: 0.93 - 0s 212us/sample - loss: 0.3289 - accuracy: 0.8750 - val_loss: 0.3043 - val_accuracy: 0.8393\n",
      "Epoch 5/20\n",
      "112/112 [==============================] - ETA: 0s - loss: 0.3007 - accuracy: 0.87 - 0s 226us/sample - loss: 0.2719 - accuracy: 0.8839 - val_loss: 0.2109 - val_accuracy: 0.9554\n",
      "Epoch 6/20\n",
      "112/112 [==============================] - ETA: 0s - loss: 0.2206 - accuracy: 0.96 - 0s 223us/sample - loss: 0.2397 - accuracy: 0.9196 - val_loss: 0.1780 - val_accuracy: 0.9375\n",
      "Epoch 7/20\n",
      "112/112 [==============================] - ETA: 0s - loss: 0.1573 - accuracy: 0.93 - 0s 240us/sample - loss: 0.1748 - accuracy: 0.9286 - val_loss: 0.1473 - val_accuracy: 0.9643\n",
      "Epoch 8/20\n",
      "112/112 [==============================] - ETA: 0s - loss: 0.1809 - accuracy: 0.96 - 0s 223us/sample - loss: 0.1476 - accuracy: 0.9554 - val_loss: 0.1400 - val_accuracy: 0.9286\n",
      "Epoch 9/20\n",
      "112/112 [==============================] - ETA: 0s - loss: 0.1797 - accuracy: 0.87 - 0s 223us/sample - loss: 0.1276 - accuracy: 0.9643 - val_loss: 0.1289 - val_accuracy: 0.9554\n",
      "Epoch 10/20\n",
      "112/112 [==============================] - ETA: 0s - loss: 0.1189 - accuracy: 0.96 - 0s 223us/sample - loss: 0.1403 - accuracy: 0.9464 - val_loss: 0.1103 - val_accuracy: 0.9732\n",
      "Epoch 11/20\n",
      "112/112 [==============================] - ETA: 0s - loss: 0.1211 - accuracy: 0.93 - 0s 267us/sample - loss: 0.1048 - accuracy: 0.9554 - val_loss: 0.1001 - val_accuracy: 0.9732\n",
      "Epoch 12/20\n",
      "112/112 [==============================] - ETA: 0s - loss: 0.1114 - accuracy: 0.93 - 0s 232us/sample - loss: 0.1088 - accuracy: 0.9464 - val_loss: 0.1058 - val_accuracy: 0.9643\n",
      "Epoch 13/20\n",
      "112/112 [==============================] - ETA: 0s - loss: 0.1676 - accuracy: 0.93 - 0s 223us/sample - loss: 0.1022 - accuracy: 0.9643 - val_loss: 0.0999 - val_accuracy: 0.9554\n",
      "Epoch 14/20\n",
      "112/112 [==============================] - ETA: 0s - loss: 0.1109 - accuracy: 0.90 - 0s 234us/sample - loss: 0.1208 - accuracy: 0.9375 - val_loss: 0.1033 - val_accuracy: 0.9375\n",
      "Epoch 15/20\n",
      "112/112 [==============================] - ETA: 0s - loss: 0.0654 - accuracy: 0.96 - 0s 249us/sample - loss: 0.1235 - accuracy: 0.9464 - val_loss: 0.1626 - val_accuracy: 0.9464\n",
      "Epoch 16/20\n",
      "112/112 [==============================] - ETA: 0s - loss: 0.1874 - accuracy: 0.96 - 0s 232us/sample - loss: 0.1382 - accuracy: 0.9464 - val_loss: 0.2188 - val_accuracy: 0.9196\n",
      "Epoch 17/20\n",
      "112/112 [==============================] - ETA: 0s - loss: 0.2528 - accuracy: 0.90 - 0s 232us/sample - loss: 0.1719 - accuracy: 0.9554 - val_loss: 0.2106 - val_accuracy: 0.9286\n",
      "Epoch 18/20\n",
      "112/112 [==============================] - ETA: 0s - loss: 0.3104 - accuracy: 0.90 - 0s 204us/sample - loss: 0.1677 - accuracy: 0.9375 - val_loss: 0.1610 - val_accuracy: 0.9196\n",
      "Epoch 19/20\n",
      "112/112 [==============================] - ETA: 0s - loss: 0.1852 - accuracy: 0.90 - 0s 227us/sample - loss: 0.1614 - accuracy: 0.9286 - val_loss: 0.1280 - val_accuracy: 0.9464\n",
      "Epoch 20/20\n",
      "112/112 [==============================] - ETA: 0s - loss: 0.1636 - accuracy: 0.93 - 0s 2ms/sample - loss: 0.1239 - accuracy: 0.9464 - val_loss: 0.0851 - val_accuracy: 0.9821\n"
     ]
    },
    {
     "data": {
      "text/html": [
       "<span style=\"color:#4527A0\"><h1 style=\"font-size:18px\">Trial complete</h1></span>"
      ],
      "text/plain": [
       "<IPython.core.display.HTML object>"
      ]
     },
     "metadata": {},
     "output_type": "display_data"
    },
    {
     "data": {
      "text/html": [
       "<span style=\"color:#4527A0\"><h1 style=\"font-size:18px\">Trial summary</h1></span>"
      ],
      "text/plain": [
       "<IPython.core.display.HTML object>"
      ]
     },
     "metadata": {},
     "output_type": "display_data"
    },
    {
     "data": {
      "text/html": [
       "<span style=\"color:cyan\"> |-Trial ID: 153ff8d52214adc112f21bb985c178d8</span>"
      ],
      "text/plain": [
       "<IPython.core.display.HTML object>"
      ]
     },
     "metadata": {},
     "output_type": "display_data"
    },
    {
     "data": {
      "text/html": [
       "<span style=\"color:cyan\"> |-Score: 0.9761905074119568</span>"
      ],
      "text/plain": [
       "<IPython.core.display.HTML object>"
      ]
     },
     "metadata": {},
     "output_type": "display_data"
    },
    {
     "data": {
      "text/html": [
       "<span style=\"color:cyan\"> |-Best step: 0</span>"
      ],
      "text/plain": [
       "<IPython.core.display.HTML object>"
      ]
     },
     "metadata": {},
     "output_type": "display_data"
    },
    {
     "data": {
      "text/html": [
       "<span style=\"color:#7E57C2\"><h2 style=\"font-size:16px\">Hyperparameters:</h2></span>"
      ],
      "text/plain": [
       "<IPython.core.display.HTML object>"
      ]
     },
     "metadata": {},
     "output_type": "display_data"
    },
    {
     "data": {
      "text/html": [
       "<span style=\"color:cyan\"> |-learning_rate: 0.01</span>"
      ],
      "text/plain": [
       "<IPython.core.display.HTML object>"
      ]
     },
     "metadata": {},
     "output_type": "display_data"
    },
    {
     "data": {
      "text/html": [
       "<span style=\"color:blue\"> |-units: 80</span>"
      ],
      "text/plain": [
       "<IPython.core.display.HTML object>"
      ]
     },
     "metadata": {},
     "output_type": "display_data"
    },
    {
     "name": "stdout",
     "output_type": "stream",
     "text": [
      "Train on 112 samples, validate on 112 samples\n",
      "Epoch 1/20\n",
      "112/112 [==============================] - ETA: 0s - loss: 1.3997 - accuracy: 0.21 - 1s 5ms/sample - loss: 1.2433 - accuracy: 0.3482 - val_loss: 1.0910 - val_accuracy: 0.6518\n",
      "Epoch 2/20\n",
      "112/112 [==============================] - ETA: 0s - loss: 1.1056 - accuracy: 0.59 - 0s 240us/sample - loss: 1.0591 - accuracy: 0.5893 - val_loss: 0.9932 - val_accuracy: 0.5893\n",
      "Epoch 3/20\n",
      "112/112 [==============================] - ETA: 0s - loss: 1.0015 - accuracy: 0.75 - 0s 222us/sample - loss: 0.9734 - accuracy: 0.5714 - val_loss: 0.9250 - val_accuracy: 0.6339\n",
      "Epoch 4/20\n",
      "112/112 [==============================] - ETA: 0s - loss: 0.9332 - accuracy: 0.59 - 0s 2ms/sample - loss: 0.9066 - accuracy: 0.6607 - val_loss: 0.8610 - val_accuracy: 0.6607\n",
      "Epoch 5/20\n",
      "112/112 [==============================] - ETA: 0s - loss: 0.8729 - accuracy: 0.62 - 0s 247us/sample - loss: 0.8470 - accuracy: 0.6607 - val_loss: 0.8221 - val_accuracy: 0.6607\n",
      "Epoch 6/20\n",
      "112/112 [==============================] - ETA: 0s - loss: 0.8148 - accuracy: 0.71 - 0s 223us/sample - loss: 0.8124 - accuracy: 0.6607 - val_loss: 0.7852 - val_accuracy: 0.6607\n",
      "Epoch 7/20\n",
      "112/112 [==============================] - ETA: 0s - loss: 0.7600 - accuracy: 0.75 - 0s 223us/sample - loss: 0.7735 - accuracy: 0.6607 - val_loss: 0.7448 - val_accuracy: 0.6607\n",
      "Epoch 8/20\n",
      "112/112 [==============================] - ETA: 0s - loss: 0.7828 - accuracy: 0.56 - 0s 2ms/sample - loss: 0.7345 - accuracy: 0.6696 - val_loss: 0.7128 - val_accuracy: 0.8750\n",
      "Epoch 9/20\n",
      "112/112 [==============================] - ETA: 0s - loss: 0.7461 - accuracy: 0.87 - 0s 2ms/sample - loss: 0.7072 - accuracy: 0.9107 - val_loss: 0.6842 - val_accuracy: 0.9643\n",
      "Epoch 10/20\n",
      "112/112 [==============================] - ETA: 0s - loss: 0.6942 - accuracy: 0.96 - 0s 240us/sample - loss: 0.6751 - accuracy: 0.8482 - val_loss: 0.6530 - val_accuracy: 0.6786\n",
      "Epoch 11/20\n",
      "112/112 [==============================] - ETA: 0s - loss: 0.6608 - accuracy: 0.68 - 0s 223us/sample - loss: 0.6464 - accuracy: 0.6696 - val_loss: 0.6280 - val_accuracy: 0.6696\n",
      "Epoch 12/20\n",
      "112/112 [==============================] - ETA: 0s - loss: 0.5977 - accuracy: 0.75 - 0s 214us/sample - loss: 0.6222 - accuracy: 0.6607 - val_loss: 0.6029 - val_accuracy: 0.6786\n",
      "Epoch 13/20\n",
      "112/112 [==============================] - ETA: 0s - loss: 0.5693 - accuracy: 0.81 - 0s 218us/sample - loss: 0.5942 - accuracy: 0.6786 - val_loss: 0.5760 - val_accuracy: 0.8125\n",
      "Epoch 14/20\n",
      "112/112 [==============================] - ETA: 0s - loss: 0.6223 - accuracy: 0.81 - 0s 214us/sample - loss: 0.5719 - accuracy: 0.8482 - val_loss: 0.5549 - val_accuracy: 0.9196\n",
      "Epoch 15/20\n",
      "112/112 [==============================] - ETA: 0s - loss: 0.5759 - accuracy: 0.87 - 0s 214us/sample - loss: 0.5496 - accuracy: 0.8839 - val_loss: 0.5350 - val_accuracy: 0.9018\n",
      "Epoch 16/20\n",
      "112/112 [==============================] - ETA: 0s - loss: 0.5612 - accuracy: 0.93 - 0s 223us/sample - loss: 0.5320 - accuracy: 0.9196 - val_loss: 0.5174 - val_accuracy: 0.9375\n",
      "Epoch 17/20\n",
      "112/112 [==============================] - ETA: 0s - loss: 0.5299 - accuracy: 0.90 - 0s 223us/sample - loss: 0.5121 - accuracy: 0.9107 - val_loss: 0.4997 - val_accuracy: 0.8750\n",
      "Epoch 18/20\n",
      "112/112 [==============================] - ETA: 0s - loss: 0.4890 - accuracy: 0.93 - 0s 214us/sample - loss: 0.4952 - accuracy: 0.8750 - val_loss: 0.4839 - val_accuracy: 0.8750\n",
      "Epoch 19/20\n",
      "112/112 [==============================] - ETA: 0s - loss: 0.4772 - accuracy: 0.90 - 0s 237us/sample - loss: 0.4801 - accuracy: 0.9107 - val_loss: 0.4687 - val_accuracy: 0.9107\n",
      "Epoch 20/20\n",
      "112/112 [==============================] - ETA: 0s - loss: 0.5007 - accuracy: 0.90 - 0s 222us/sample - loss: 0.4643 - accuracy: 0.9107 - val_loss: 0.4543 - val_accuracy: 0.9107\n",
      "Train on 112 samples, validate on 112 samples\n",
      "Epoch 1/20\n",
      "112/112 [==============================] - ETA: 0s - loss: 1.0909 - accuracy: 0.37 - 0s 3ms/sample - loss: 1.0586 - accuracy: 0.3393 - val_loss: 0.9543 - val_accuracy: 0.3393\n",
      "Epoch 2/20\n",
      "112/112 [==============================] - ETA: 0s - loss: 0.9860 - accuracy: 0.31 - 0s 214us/sample - loss: 0.9236 - accuracy: 0.3571 - val_loss: 0.8593 - val_accuracy: 0.5357\n",
      "Epoch 3/20\n",
      "112/112 [==============================] - ETA: 0s - loss: 0.8383 - accuracy: 0.62 - 0s 223us/sample - loss: 0.8393 - accuracy: 0.6518 - val_loss: 0.8115 - val_accuracy: 0.8036\n",
      "Epoch 4/20\n",
      "112/112 [==============================] - ETA: 0s - loss: 0.8125 - accuracy: 0.78 - 0s 214us/sample - loss: 0.8077 - accuracy: 0.6964 - val_loss: 0.7771 - val_accuracy: 0.6875\n",
      "Epoch 5/20\n",
      "112/112 [==============================] - ETA: 0s - loss: 0.7815 - accuracy: 0.68 - 0s 232us/sample - loss: 0.7663 - accuracy: 0.6875 - val_loss: 0.7394 - val_accuracy: 0.7946\n",
      "Epoch 6/20\n",
      "112/112 [==============================] - ETA: 0s - loss: 0.7672 - accuracy: 0.71 - 0s 276us/sample - loss: 0.7269 - accuracy: 0.7679 - val_loss: 0.7015 - val_accuracy: 0.7946\n",
      "Epoch 7/20\n",
      "112/112 [==============================] - ETA: 0s - loss: 0.7194 - accuracy: 0.84 - 0s 232us/sample - loss: 0.6902 - accuracy: 0.8571 - val_loss: 0.6659 - val_accuracy: 0.8661\n",
      "Epoch 8/20\n",
      "112/112 [==============================] - ETA: 0s - loss: 0.6766 - accuracy: 0.81 - 0s 223us/sample - loss: 0.6549 - accuracy: 0.8661 - val_loss: 0.6347 - val_accuracy: 0.7946\n",
      "Epoch 9/20\n",
      "112/112 [==============================] - ETA: 0s - loss: 0.6470 - accuracy: 0.68 - 0s 214us/sample - loss: 0.6252 - accuracy: 0.8036 - val_loss: 0.6070 - val_accuracy: 0.7946\n",
      "Epoch 10/20\n",
      "112/112 [==============================] - ETA: 0s - loss: 0.6109 - accuracy: 0.75 - 0s 232us/sample - loss: 0.5979 - accuracy: 0.7768 - val_loss: 0.5791 - val_accuracy: 0.7946\n",
      "Epoch 11/20\n",
      "112/112 [==============================] - ETA: 0s - loss: 0.6035 - accuracy: 0.78 - 0s 220us/sample - loss: 0.5707 - accuracy: 0.7946 - val_loss: 0.5516 - val_accuracy: 0.8482\n",
      "Epoch 12/20\n",
      "112/112 [==============================] - ETA: 0s - loss: 0.4919 - accuracy: 0.90 - 0s 223us/sample - loss: 0.5438 - accuracy: 0.8661 - val_loss: 0.5278 - val_accuracy: 0.9286\n",
      "Epoch 13/20\n",
      "112/112 [==============================] - ETA: 0s - loss: 0.5187 - accuracy: 0.96 - 0s 210us/sample - loss: 0.5213 - accuracy: 0.9286 - val_loss: 0.5064 - val_accuracy: 0.9464\n",
      "Epoch 14/20\n",
      "112/112 [==============================] - ETA: 0s - loss: 0.4908 - accuracy: 0.93 - 0s 214us/sample - loss: 0.5006 - accuracy: 0.9464 - val_loss: 0.4861 - val_accuracy: 0.9196\n",
      "Epoch 15/20\n",
      "112/112 [==============================] - ETA: 0s - loss: 0.5126 - accuracy: 0.93 - 0s 232us/sample - loss: 0.4835 - accuracy: 0.9018 - val_loss: 0.4684 - val_accuracy: 0.8839\n",
      "Epoch 16/20\n",
      "112/112 [==============================] - ETA: 0s - loss: 0.4624 - accuracy: 0.84 - 0s 232us/sample - loss: 0.4627 - accuracy: 0.8929 - val_loss: 0.4504 - val_accuracy: 0.9464\n",
      "Epoch 17/20\n",
      "112/112 [==============================] - ETA: 0s - loss: 0.4943 - accuracy: 0.93 - 0s 214us/sample - loss: 0.4479 - accuracy: 0.9643 - val_loss: 0.4361 - val_accuracy: 0.9643\n",
      "Epoch 18/20\n",
      "112/112 [==============================] - ETA: 0s - loss: 0.3863 - accuracy: 1.00 - 0s 2ms/sample - loss: 0.4313 - accuracy: 0.9643 - val_loss: 0.4201 - val_accuracy: 0.9732\n",
      "Epoch 19/20\n",
      "112/112 [==============================] - ETA: 0s - loss: 0.3939 - accuracy: 0.96 - 0s 231us/sample - loss: 0.4153 - accuracy: 0.9554 - val_loss: 0.4057 - val_accuracy: 0.9286\n",
      "Epoch 20/20\n",
      "112/112 [==============================] - ETA: 0s - loss: 0.4688 - accuracy: 0.87 - 0s 215us/sample - loss: 0.4018 - accuracy: 0.9286 - val_loss: 0.3917 - val_accuracy: 0.9286\n",
      "Train on 112 samples, validate on 112 samples\n",
      "Epoch 1/20\n",
      "112/112 [==============================] - ETA: 0s - loss: 1.3020 - accuracy: 0.25 - 0s 3ms/sample - loss: 1.1730 - accuracy: 0.3750 - val_loss: 1.0063 - val_accuracy: 0.6607\n",
      "Epoch 2/20\n",
      "112/112 [==============================] - ETA: 0s - loss: 0.9678 - accuracy: 0.71 - 0s 205us/sample - loss: 0.9529 - accuracy: 0.6607 - val_loss: 0.8816 - val_accuracy: 0.6786\n",
      "Epoch 3/20\n",
      "112/112 [==============================] - ETA: 0s - loss: 0.8410 - accuracy: 0.78 - 0s 249us/sample - loss: 0.8537 - accuracy: 0.7321 - val_loss: 0.8196 - val_accuracy: 0.9018\n",
      "Epoch 4/20\n",
      "112/112 [==============================] - ETA: 0s - loss: 0.8138 - accuracy: 0.87 - 0s 229us/sample - loss: 0.8080 - accuracy: 0.8750 - val_loss: 0.7789 - val_accuracy: 0.9196\n",
      "Epoch 5/20\n",
      "112/112 [==============================] - ETA: 0s - loss: 0.7736 - accuracy: 0.87 - 0s 214us/sample - loss: 0.7642 - accuracy: 0.9286 - val_loss: 0.7347 - val_accuracy: 0.8929\n",
      "Epoch 6/20\n",
      "112/112 [==============================] - ETA: 0s - loss: 0.7225 - accuracy: 0.93 - 0s 214us/sample - loss: 0.7211 - accuracy: 0.8482 - val_loss: 0.6936 - val_accuracy: 0.7768\n",
      "Epoch 7/20\n",
      "112/112 [==============================] - ETA: 0s - loss: 0.6811 - accuracy: 0.81 - 0s 223us/sample - loss: 0.6823 - accuracy: 0.7411 - val_loss: 0.6575 - val_accuracy: 0.7143\n",
      "Epoch 8/20\n",
      "112/112 [==============================] - ETA: 0s - loss: 0.6479 - accuracy: 0.75 - 0s 214us/sample - loss: 0.6468 - accuracy: 0.7232 - val_loss: 0.6207 - val_accuracy: 0.8125\n",
      "Epoch 9/20\n",
      "112/112 [==============================] - ETA: 0s - loss: 0.6236 - accuracy: 0.81 - 0s 214us/sample - loss: 0.6100 - accuracy: 0.8661 - val_loss: 0.5927 - val_accuracy: 0.9554\n",
      "Epoch 10/20\n",
      "112/112 [==============================] - ETA: 0s - loss: 0.6024 - accuracy: 0.90 - 0s 223us/sample - loss: 0.5853 - accuracy: 0.9464 - val_loss: 0.5662 - val_accuracy: 0.9554\n",
      "Epoch 11/20\n",
      "112/112 [==============================] - ETA: 0s - loss: 0.5825 - accuracy: 0.90 - 0s 214us/sample - loss: 0.5560 - accuracy: 0.9464 - val_loss: 0.5363 - val_accuracy: 0.9107\n",
      "Epoch 12/20\n",
      "112/112 [==============================] - ETA: 0s - loss: 0.5493 - accuracy: 0.90 - 0s 223us/sample - loss: 0.5288 - accuracy: 0.8750 - val_loss: 0.5144 - val_accuracy: 0.8214\n",
      "Epoch 13/20\n",
      "112/112 [==============================] - ETA: 0s - loss: 0.5349 - accuracy: 0.78 - 0s 214us/sample - loss: 0.5074 - accuracy: 0.8304 - val_loss: 0.4909 - val_accuracy: 0.8661\n",
      "Epoch 14/20\n",
      "112/112 [==============================] - ETA: 0s - loss: 0.6010 - accuracy: 0.75 - 0s 201us/sample - loss: 0.4867 - accuracy: 0.9018 - val_loss: 0.4667 - val_accuracy: 0.9375\n",
      "Epoch 15/20\n",
      "112/112 [==============================] - ETA: 0s - loss: 0.5344 - accuracy: 0.90 - 0s 232us/sample - loss: 0.4602 - accuracy: 0.9375 - val_loss: 0.4474 - val_accuracy: 0.9464\n",
      "Epoch 16/20\n",
      "112/112 [==============================] - ETA: 0s - loss: 0.4374 - accuracy: 0.96 - 0s 222us/sample - loss: 0.4425 - accuracy: 0.9464 - val_loss: 0.4303 - val_accuracy: 0.9375\n",
      "Epoch 17/20\n",
      "112/112 [==============================] - ETA: 0s - loss: 0.4412 - accuracy: 0.93 - 0s 209us/sample - loss: 0.4260 - accuracy: 0.9375 - val_loss: 0.4148 - val_accuracy: 0.9554\n",
      "Epoch 18/20\n",
      "112/112 [==============================] - ETA: 0s - loss: 0.4077 - accuracy: 1.00 - 0s 214us/sample - loss: 0.4115 - accuracy: 0.9643 - val_loss: 0.4011 - val_accuracy: 0.9643\n",
      "Epoch 19/20\n",
      "112/112 [==============================] - ETA: 0s - loss: 0.3816 - accuracy: 0.93 - 0s 249us/sample - loss: 0.3965 - accuracy: 0.9643 - val_loss: 0.3880 - val_accuracy: 0.9464\n",
      "Epoch 20/20\n",
      "112/112 [==============================] - ETA: 0s - loss: 0.3621 - accuracy: 0.96 - 0s 231us/sample - loss: 0.3867 - accuracy: 0.9196 - val_loss: 0.3800 - val_accuracy: 0.9196\n"
     ]
    },
    {
     "data": {
      "text/html": [
       "<span style=\"color:#4527A0\"><h1 style=\"font-size:18px\">Trial complete</h1></span>"
      ],
      "text/plain": [
       "<IPython.core.display.HTML object>"
      ]
     },
     "metadata": {},
     "output_type": "display_data"
    },
    {
     "data": {
      "text/html": [
       "<span style=\"color:#4527A0\"><h1 style=\"font-size:18px\">Trial summary</h1></span>"
      ],
      "text/plain": [
       "<IPython.core.display.HTML object>"
      ]
     },
     "metadata": {},
     "output_type": "display_data"
    },
    {
     "data": {
      "text/html": [
       "<span style=\"color:cyan\"> |-Trial ID: 9b91b77ffe57ca6cb690b76a07d2ab85</span>"
      ],
      "text/plain": [
       "<IPython.core.display.HTML object>"
      ]
     },
     "metadata": {},
     "output_type": "display_data"
    },
    {
     "data": {
      "text/html": [
       "<span style=\"color:cyan\"> |-Score: 0.9672619700431824</span>"
      ],
      "text/plain": [
       "<IPython.core.display.HTML object>"
      ]
     },
     "metadata": {},
     "output_type": "display_data"
    },
    {
     "data": {
      "text/html": [
       "<span style=\"color:cyan\"> |-Best step: 0</span>"
      ],
      "text/plain": [
       "<IPython.core.display.HTML object>"
      ]
     },
     "metadata": {},
     "output_type": "display_data"
    },
    {
     "data": {
      "text/html": [
       "<span style=\"color:#7E57C2\"><h2 style=\"font-size:16px\">Hyperparameters:</h2></span>"
      ],
      "text/plain": [
       "<IPython.core.display.HTML object>"
      ]
     },
     "metadata": {},
     "output_type": "display_data"
    },
    {
     "data": {
      "text/html": [
       "<span style=\"color:cyan\"> |-learning_rate: 0.001</span>"
      ],
      "text/plain": [
       "<IPython.core.display.HTML object>"
      ]
     },
     "metadata": {},
     "output_type": "display_data"
    },
    {
     "data": {
      "text/html": [
       "<span style=\"color:blue\"> |-units: 50</span>"
      ],
      "text/plain": [
       "<IPython.core.display.HTML object>"
      ]
     },
     "metadata": {},
     "output_type": "display_data"
    },
    {
     "name": "stdout",
     "output_type": "stream",
     "text": [
      "Train on 112 samples, validate on 112 samples\n",
      "Epoch 1/20\n",
      "112/112 [==============================] - ETA: 0s - loss: 1.3349 - accuracy: 0.25 - 1s 5ms/sample - loss: 1.1928 - accuracy: 0.3393 - val_loss: 1.1690 - val_accuracy: 0.3393\n",
      "Epoch 2/20\n",
      "112/112 [==============================] - ETA: 0s - loss: 1.2737 - accuracy: 0.25 - 0s 254us/sample - loss: 1.1593 - accuracy: 0.3393 - val_loss: 1.1370 - val_accuracy: 0.3393\n",
      "Epoch 3/20\n",
      "112/112 [==============================] - ETA: 0s - loss: 1.2012 - accuracy: 0.31 - 0s 258us/sample - loss: 1.1276 - accuracy: 0.3393 - val_loss: 1.1102 - val_accuracy: 0.3393\n",
      "Epoch 4/20\n",
      "112/112 [==============================] - ETA: 0s - loss: 1.1420 - accuracy: 0.31 - 0s 238us/sample - loss: 1.1026 - accuracy: 0.3393 - val_loss: 1.0875 - val_accuracy: 0.3393\n",
      "Epoch 5/20\n",
      "112/112 [==============================] - ETA: 0s - loss: 0.9758 - accuracy: 0.43 - 0s 232us/sample - loss: 1.0793 - accuracy: 0.3393 - val_loss: 1.0690 - val_accuracy: 0.3393\n",
      "Epoch 6/20\n",
      "112/112 [==============================] - ETA: 0s - loss: 1.0485 - accuracy: 0.34 - 0s 223us/sample - loss: 1.0633 - accuracy: 0.3393 - val_loss: 1.0537 - val_accuracy: 0.3393\n",
      "Epoch 7/20\n",
      "112/112 [==============================] - ETA: 0s - loss: 1.0136 - accuracy: 0.34 - 0s 223us/sample - loss: 1.0492 - accuracy: 0.3393 - val_loss: 1.0408 - val_accuracy: 0.3393\n",
      "Epoch 8/20\n",
      "112/112 [==============================] - ETA: 0s - loss: 1.0077 - accuracy: 0.43 - 0s 211us/sample - loss: 1.0361 - accuracy: 0.3393 - val_loss: 1.0298 - val_accuracy: 0.3393\n",
      "Epoch 9/20\n",
      "112/112 [==============================] - ETA: 0s - loss: 1.0577 - accuracy: 0.31 - 0s 223us/sample - loss: 1.0277 - accuracy: 0.3393 - val_loss: 1.0201 - val_accuracy: 0.3393\n",
      "Epoch 10/20\n",
      "112/112 [==============================] - ETA: 0s - loss: 1.0472 - accuracy: 0.25 - 0s 196us/sample - loss: 1.0172 - accuracy: 0.3393 - val_loss: 1.0114 - val_accuracy: 0.3393\n",
      "Epoch 11/20\n",
      "112/112 [==============================] - ETA: 0s - loss: 1.0218 - accuracy: 0.37 - 0s 223us/sample - loss: 1.0085 - accuracy: 0.3393 - val_loss: 1.0029 - val_accuracy: 0.3393\n",
      "Epoch 12/20\n",
      "112/112 [==============================] - ETA: 0s - loss: 1.0001 - accuracy: 0.37 - 0s 223us/sample - loss: 1.0001 - accuracy: 0.3393 - val_loss: 0.9947 - val_accuracy: 0.3393\n",
      "Epoch 13/20\n",
      "112/112 [==============================] - ETA: 0s - loss: 0.9542 - accuracy: 0.37 - 0s 214us/sample - loss: 0.9915 - accuracy: 0.3393 - val_loss: 0.9866 - val_accuracy: 0.3393\n",
      "Epoch 14/20\n",
      "112/112 [==============================] - ETA: 0s - loss: 1.0024 - accuracy: 0.37 - 0s 2ms/sample - loss: 0.9842 - accuracy: 0.3393 - val_loss: 0.9784 - val_accuracy: 0.3482\n",
      "Epoch 15/20\n",
      "112/112 [==============================] - ETA: 0s - loss: 1.0021 - accuracy: 0.34 - 0s 254us/sample - loss: 0.9766 - accuracy: 0.3482 - val_loss: 0.9701 - val_accuracy: 0.3482\n",
      "Epoch 16/20\n",
      "112/112 [==============================] - ETA: 0s - loss: 0.9723 - accuracy: 0.34 - 0s 214us/sample - loss: 0.9676 - accuracy: 0.3393 - val_loss: 0.9621 - val_accuracy: 0.3482\n",
      "Epoch 17/20\n",
      "112/112 [==============================] - ETA: 0s - loss: 0.9726 - accuracy: 0.31 - 0s 2ms/sample - loss: 0.9596 - accuracy: 0.3482 - val_loss: 0.9543 - val_accuracy: 0.3661\n",
      "Epoch 18/20\n",
      "112/112 [==============================] - ETA: 0s - loss: 0.9343 - accuracy: 0.50 - 0s 2ms/sample - loss: 0.9519 - accuracy: 0.3929 - val_loss: 0.9467 - val_accuracy: 0.4464\n",
      "Epoch 19/20\n",
      "112/112 [==============================] - ETA: 0s - loss: 0.9685 - accuracy: 0.34 - 0s 2ms/sample - loss: 0.9444 - accuracy: 0.5089 - val_loss: 0.9389 - val_accuracy: 0.6071\n",
      "Epoch 20/20\n",
      "112/112 [==============================] - ETA: 0s - loss: 0.9238 - accuracy: 0.65 - 0s 2ms/sample - loss: 0.9365 - accuracy: 0.6161 - val_loss: 0.9309 - val_accuracy: 0.6429\n",
      "Train on 112 samples, validate on 112 samples\n",
      "Epoch 1/20\n",
      "112/112 [==============================] - ETA: 0s - loss: 1.2010 - accuracy: 0.34 - 0s 3ms/sample - loss: 1.2090 - accuracy: 0.3393 - val_loss: 1.1848 - val_accuracy: 0.3393\n",
      "Epoch 2/20\n",
      "112/112 [==============================] - ETA: 0s - loss: 1.2165 - accuracy: 0.28 - 0s 226us/sample - loss: 1.1754 - accuracy: 0.3393 - val_loss: 1.1561 - val_accuracy: 0.3393\n",
      "Epoch 3/20\n",
      "112/112 [==============================] - ETA: 0s - loss: 1.1350 - accuracy: 0.37 - 0s 196us/sample - loss: 1.1472 - accuracy: 0.3393 - val_loss: 1.1307 - val_accuracy: 0.3393\n",
      "Epoch 4/20\n",
      "112/112 [==============================] - ETA: 0s - loss: 1.1350 - accuracy: 0.31 - 0s 214us/sample - loss: 1.1237 - accuracy: 0.3393 - val_loss: 1.1087 - val_accuracy: 0.3393\n",
      "Epoch 5/20\n",
      "112/112 [==============================] - ETA: 0s - loss: 1.1390 - accuracy: 0.25 - 0s 223us/sample - loss: 1.1046 - accuracy: 0.3304 - val_loss: 1.0901 - val_accuracy: 0.3125\n",
      "Epoch 6/20\n",
      "112/112 [==============================] - ETA: 0s - loss: 1.0912 - accuracy: 0.40 - 0s 205us/sample - loss: 1.0839 - accuracy: 0.3036 - val_loss: 1.0747 - val_accuracy: 0.1786\n",
      "Epoch 7/20\n",
      "112/112 [==============================] - ETA: 0s - loss: 1.0574 - accuracy: 0.18 - 0s 205us/sample - loss: 1.0699 - accuracy: 0.1518 - val_loss: 1.0610 - val_accuracy: 0.1786\n",
      "Epoch 8/20\n",
      "112/112 [==============================] - ETA: 0s - loss: 1.0630 - accuracy: 0.18 - 0s 214us/sample - loss: 1.0572 - accuracy: 0.2054 - val_loss: 1.0486 - val_accuracy: 0.1696\n",
      "Epoch 9/20\n",
      "112/112 [==============================] - ETA: 0s - loss: 1.0704 - accuracy: 0.12 - 0s 214us/sample - loss: 1.0444 - accuracy: 0.2054 - val_loss: 1.0371 - val_accuracy: 0.2679\n",
      "Epoch 10/20\n",
      "112/112 [==============================] - ETA: 0s - loss: 1.0107 - accuracy: 0.34 - 0s 205us/sample - loss: 1.0341 - accuracy: 0.2946 - val_loss: 1.0262 - val_accuracy: 0.3036\n",
      "Epoch 11/20\n",
      "112/112 [==============================] - ETA: 0s - loss: 1.0284 - accuracy: 0.28 - 0s 214us/sample - loss: 1.0230 - accuracy: 0.3304 - val_loss: 1.0153 - val_accuracy: 0.3482\n",
      "Epoch 12/20\n",
      "112/112 [==============================] - ETA: 0s - loss: 1.0261 - accuracy: 0.37 - 0s 223us/sample - loss: 1.0118 - accuracy: 0.3482 - val_loss: 1.0039 - val_accuracy: 0.3839\n",
      "Epoch 13/20\n",
      "112/112 [==============================] - ETA: 0s - loss: 0.9986 - accuracy: 0.37 - 0s 214us/sample - loss: 1.0000 - accuracy: 0.4196 - val_loss: 0.9915 - val_accuracy: 0.5089\n",
      "Epoch 14/20\n",
      "112/112 [==============================] - ETA: 0s - loss: 0.9832 - accuracy: 0.53 - 0s 214us/sample - loss: 0.9877 - accuracy: 0.5446 - val_loss: 0.9787 - val_accuracy: 0.5982\n",
      "Epoch 15/20\n",
      "112/112 [==============================] - ETA: 0s - loss: 0.9944 - accuracy: 0.53 - 0s 205us/sample - loss: 0.9751 - accuracy: 0.6071 - val_loss: 0.9669 - val_accuracy: 0.6339\n",
      "Epoch 16/20\n",
      "112/112 [==============================] - ETA: 0s - loss: 0.9641 - accuracy: 0.62 - 0s 205us/sample - loss: 0.9634 - accuracy: 0.6339 - val_loss: 0.9565 - val_accuracy: 0.6339\n",
      "Epoch 17/20\n",
      "112/112 [==============================] - ETA: 0s - loss: 0.9589 - accuracy: 0.53 - 0s 2ms/sample - loss: 0.9546 - accuracy: 0.6429 - val_loss: 0.9470 - val_accuracy: 0.6518\n",
      "Epoch 18/20\n",
      "112/112 [==============================] - ETA: 0s - loss: 0.9567 - accuracy: 0.65 - 0s 2ms/sample - loss: 0.9443 - accuracy: 0.6518 - val_loss: 0.9379 - val_accuracy: 0.6607\n",
      "Epoch 19/20\n",
      "112/112 [==============================] - ETA: 0s - loss: 0.9116 - accuracy: 0.71 - 0s 223us/sample - loss: 0.9352 - accuracy: 0.6607 - val_loss: 0.9290 - val_accuracy: 0.6607\n",
      "Epoch 20/20\n",
      "112/112 [==============================] - ETA: 0s - loss: 0.9400 - accuracy: 0.59 - 0s 223us/sample - loss: 0.9265 - accuracy: 0.6607 - val_loss: 0.9203 - val_accuracy: 0.6607\n",
      "Train on 112 samples, validate on 112 samples\n",
      "Epoch 1/20\n",
      "112/112 [==============================] - ETA: 0s - loss: 1.7234 - accuracy: 0.34 - 0s 3ms/sample - loss: 1.6798 - accuracy: 0.3393 - val_loss: 1.6337 - val_accuracy: 0.3393\n",
      "Epoch 2/20\n",
      "112/112 [==============================] - ETA: 0s - loss: 1.4536 - accuracy: 0.40 - 0s 240us/sample - loss: 1.6095 - accuracy: 0.3393 - val_loss: 1.5678 - val_accuracy: 0.3393\n",
      "Epoch 3/20\n",
      "112/112 [==============================] - ETA: 0s - loss: 1.8044 - accuracy: 0.18 - 0s 240us/sample - loss: 1.5480 - accuracy: 0.3393 - val_loss: 1.5052 - val_accuracy: 0.3393\n",
      "Epoch 4/20\n",
      "112/112 [==============================] - ETA: 0s - loss: 1.3832 - accuracy: 0.37 - 0s 267us/sample - loss: 1.4839 - accuracy: 0.3393 - val_loss: 1.4467 - val_accuracy: 0.3393\n",
      "Epoch 5/20\n",
      "112/112 [==============================] - ETA: 0s - loss: 1.2444 - accuracy: 0.37 - 0s 267us/sample - loss: 1.4281 - accuracy: 0.3393 - val_loss: 1.3916 - val_accuracy: 0.3393\n",
      "Epoch 6/20\n",
      "112/112 [==============================] - ETA: 0s - loss: 1.3168 - accuracy: 0.37 - 0s 240us/sample - loss: 1.3764 - accuracy: 0.3393 - val_loss: 1.3403 - val_accuracy: 0.3393\n",
      "Epoch 7/20\n",
      "112/112 [==============================] - ETA: 0s - loss: 1.1669 - accuracy: 0.40 - 0s 258us/sample - loss: 1.3236 - accuracy: 0.3393 - val_loss: 1.2927 - val_accuracy: 0.3393\n",
      "Epoch 8/20\n",
      "112/112 [==============================] - ETA: 0s - loss: 1.3241 - accuracy: 0.37 - 0s 249us/sample - loss: 1.2777 - accuracy: 0.3393 - val_loss: 1.2466 - val_accuracy: 0.3393\n",
      "Epoch 9/20\n",
      "112/112 [==============================] - ETA: 0s - loss: 1.1147 - accuracy: 0.40 - 0s 249us/sample - loss: 1.2310 - accuracy: 0.3571 - val_loss: 1.2037 - val_accuracy: 0.3929\n",
      "Epoch 10/20\n",
      "112/112 [==============================] - ETA: 0s - loss: 1.1616 - accuracy: 0.37 - 0s 240us/sample - loss: 1.1912 - accuracy: 0.4196 - val_loss: 1.1634 - val_accuracy: 0.5446\n",
      "Epoch 11/20\n",
      "112/112 [==============================] - ETA: 0s - loss: 0.9354 - accuracy: 0.62 - 0s 258us/sample - loss: 1.1500 - accuracy: 0.5804 - val_loss: 1.1274 - val_accuracy: 0.6339\n",
      "Epoch 12/20\n",
      "112/112 [==============================] - ETA: 0s - loss: 0.9965 - accuracy: 0.71 - 0s 240us/sample - loss: 1.1162 - accuracy: 0.6518 - val_loss: 1.0942 - val_accuracy: 0.6518\n",
      "Epoch 13/20\n",
      "112/112 [==============================] - ETA: 0s - loss: 1.1031 - accuracy: 0.62 - 0s 276us/sample - loss: 1.0845 - accuracy: 0.6518 - val_loss: 1.0640 - val_accuracy: 0.6607\n",
      "Epoch 14/20\n",
      "112/112 [==============================] - ETA: 0s - loss: 1.1005 - accuracy: 0.62 - 0s 249us/sample - loss: 1.0546 - accuracy: 0.6607 - val_loss: 1.0367 - val_accuracy: 0.6607\n",
      "Epoch 15/20\n",
      "112/112 [==============================] - ETA: 0s - loss: 1.0226 - accuracy: 0.68 - 0s 232us/sample - loss: 1.0286 - accuracy: 0.6607 - val_loss: 1.0118 - val_accuracy: 0.6607\n",
      "Epoch 16/20\n",
      "112/112 [==============================] - ETA: 0s - loss: 1.0583 - accuracy: 0.59 - 0s 252us/sample - loss: 1.0053 - accuracy: 0.6607 - val_loss: 0.9892 - val_accuracy: 0.6607\n",
      "Epoch 17/20\n",
      "112/112 [==============================] - ETA: 0s - loss: 0.9670 - accuracy: 0.68 - 0s 240us/sample - loss: 0.9818 - accuracy: 0.6607 - val_loss: 0.9692 - val_accuracy: 0.6607\n",
      "Epoch 18/20\n",
      "112/112 [==============================] - ETA: 0s - loss: 0.9573 - accuracy: 0.68 - 0s 232us/sample - loss: 0.9631 - accuracy: 0.6607 - val_loss: 0.9509 - val_accuracy: 0.6607\n",
      "Epoch 19/20\n",
      "112/112 [==============================] - ETA: 0s - loss: 0.9268 - accuracy: 0.65 - 0s 224us/sample - loss: 0.9458 - accuracy: 0.6607 - val_loss: 0.9350 - val_accuracy: 0.6607\n",
      "Epoch 20/20\n",
      "112/112 [==============================] - ETA: 0s - loss: 0.8748 - accuracy: 0.75 - 0s 240us/sample - loss: 0.9302 - accuracy: 0.6607 - val_loss: 0.9212 - val_accuracy: 0.6607\n"
     ]
    },
    {
     "data": {
      "text/html": [
       "<span style=\"color:#4527A0\"><h1 style=\"font-size:18px\">Trial complete</h1></span>"
      ],
      "text/plain": [
       "<IPython.core.display.HTML object>"
      ]
     },
     "metadata": {},
     "output_type": "display_data"
    },
    {
     "data": {
      "text/html": [
       "<span style=\"color:#4527A0\"><h1 style=\"font-size:18px\">Trial summary</h1></span>"
      ],
      "text/plain": [
       "<IPython.core.display.HTML object>"
      ]
     },
     "metadata": {},
     "output_type": "display_data"
    },
    {
     "data": {
      "text/html": [
       "<span style=\"color:cyan\"> |-Trial ID: edfd479bda02ca73d57c4b81c4948943</span>"
      ],
      "text/plain": [
       "<IPython.core.display.HTML object>"
      ]
     },
     "metadata": {},
     "output_type": "display_data"
    },
    {
     "data": {
      "text/html": [
       "<span style=\"color:cyan\"> |-Score: 0.6547619104385376</span>"
      ],
      "text/plain": [
       "<IPython.core.display.HTML object>"
      ]
     },
     "metadata": {},
     "output_type": "display_data"
    },
    {
     "data": {
      "text/html": [
       "<span style=\"color:cyan\"> |-Best step: 0</span>"
      ],
      "text/plain": [
       "<IPython.core.display.HTML object>"
      ]
     },
     "metadata": {},
     "output_type": "display_data"
    },
    {
     "data": {
      "text/html": [
       "<span style=\"color:#7E57C2\"><h2 style=\"font-size:16px\">Hyperparameters:</h2></span>"
      ],
      "text/plain": [
       "<IPython.core.display.HTML object>"
      ]
     },
     "metadata": {},
     "output_type": "display_data"
    },
    {
     "data": {
      "text/html": [
       "<span style=\"color:cyan\"> |-learning_rate: 0.0001</span>"
      ],
      "text/plain": [
       "<IPython.core.display.HTML object>"
      ]
     },
     "metadata": {},
     "output_type": "display_data"
    },
    {
     "data": {
      "text/html": [
       "<span style=\"color:blue\"> |-units: 70</span>"
      ],
      "text/plain": [
       "<IPython.core.display.HTML object>"
      ]
     },
     "metadata": {},
     "output_type": "display_data"
    },
    {
     "name": "stdout",
     "output_type": "stream",
     "text": [
      "INFO:tensorflow:Oracle triggered exit\n"
     ]
    }
   ],
   "source": [
    "tuner.search(x_train, y_train,epochs=20,\n",
    "             validation_data=(x_train, y_train))"
   ]
  },
  {
   "cell_type": "code",
   "execution_count": null,
   "metadata": {},
   "outputs": [],
   "source": [
    "# tuner.search_space_summary()"
   ]
  },
  {
   "cell_type": "code",
   "execution_count": 18,
   "metadata": {},
   "outputs": [
    {
     "name": "stdout",
     "output_type": "stream",
     "text": [
      "Model: \"sequential\"\n",
      "_________________________________________________________________\n",
      "Layer (type)                 Output Shape              Param #   \n",
      "=================================================================\n",
      "dense (Dense)                (None, 60)                300       \n",
      "_________________________________________________________________\n",
      "dense_1 (Dense)              (None, 60)                3660      \n",
      "_________________________________________________________________\n",
      "dense_2 (Dense)              (None, 3)                 183       \n",
      "=================================================================\n",
      "Total params: 4,143\n",
      "Trainable params: 4,143\n",
      "Non-trainable params: 0\n",
      "_________________________________________________________________\n",
      "Model: \"sequential\"\n",
      "_________________________________________________________________\n",
      "Layer (type)                 Output Shape              Param #   \n",
      "=================================================================\n",
      "dense (Dense)                (None, 80)                400       \n",
      "_________________________________________________________________\n",
      "dense_1 (Dense)              (None, 80)                6480      \n",
      "_________________________________________________________________\n",
      "dense_2 (Dense)              (None, 3)                 243       \n",
      "=================================================================\n",
      "Total params: 7,123\n",
      "Trainable params: 7,123\n",
      "Non-trainable params: 0\n",
      "_________________________________________________________________\n",
      "None \n",
      "\n",
      " None\n"
     ]
    }
   ],
   "source": [
    "models = tuner.get_best_models(num_models=2)\n",
    "print(models[0].summary(),'\\n\\n',models[1].summary())"
   ]
  },
  {
   "cell_type": "code",
   "execution_count": 19,
   "metadata": {},
   "outputs": [
    {
     "name": "stdout",
     "output_type": "stream",
     "text": [
      "38/38 [==============================] - ETA: 0s - loss: 0.0177 - accuracy: 1.00 - 0s 9ms/sample - loss: 0.0322 - accuracy: 1.0000\n",
      "[0.032227140116064174, 1.0]\n",
      "38/38 [==============================] - ETA: 0s - loss: 0.0209 - accuracy: 1.00 - 0s 3ms/sample - loss: 0.0358 - accuracy: 1.0000\n",
      "[0.03578644402717289, 1.0]\n"
     ]
    }
   ],
   "source": [
    "print(models[0].evaluate(x_test, y_test))\n",
    "print(models[1].evaluate(x_test, y_test))"
   ]
  }
 ],
 "metadata": {
  "kernelspec": {
   "display_name": "Python 3",
   "language": "python",
   "name": "python3"
  },
  "language_info": {
   "codemirror_mode": {
    "name": "ipython",
    "version": 3
   },
   "file_extension": ".py",
   "mimetype": "text/x-python",
   "name": "python",
   "nbconvert_exporter": "python",
   "pygments_lexer": "ipython3",
   "version": "3.7.4"
  }
 },
 "nbformat": 4,
 "nbformat_minor": 4
}
